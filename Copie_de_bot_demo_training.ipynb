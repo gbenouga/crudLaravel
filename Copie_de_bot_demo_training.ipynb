{
  "nbformat": 4,
  "nbformat_minor": 0,
  "metadata": {
    "colab": {
      "provenance": [],
      "include_colab_link": true
    },
    "kernelspec": {
      "name": "python3",
      "display_name": "Python 3"
    },
    "language_info": {
      "name": "python"
    }
  },
  "cells": [
    {
      "cell_type": "markdown",
      "metadata": {
        "id": "view-in-github",
        "colab_type": "text"
      },
      "source": [
        "<a href=\"https://colab.research.google.com/github/gbenouga/crudLaravel/blob/main/Copie_de_bot_demo_training.ipynb\" target=\"_parent\"><img src=\"https://colab.research.google.com/assets/colab-badge.svg\" alt=\"Open In Colab\"/></a>"
      ]
    },
    {
      "cell_type": "markdown",
      "metadata": {
        "id": "iScAVm6fjtcR"
      },
      "source": [
        "# Read Data From Groups"
      ]
    },
    {
      "cell_type": "code",
      "metadata": {
        "colab": {
          "base_uri": "https://localhost:8080/"
        },
        "id": "7mOs2R_idnwR",
        "outputId": "9e82f92e-9189-46d6-fcb2-06a7dd482d1e"
      },
      "source": [
        "import requests\n",
        "\n",
        "base_url = \"https://api.telegram.org/bot1822361510:AAE2y6B5vQy35bFu66QNk28_jWoRoGlMc5g/getUpdates\"\n",
        "\n",
        "parameters = {\n",
        "    \"offset\" : \"994059489\"\n",
        "}\n",
        "\n",
        "resp = requests.get(base_url, data = parameters)\n",
        "print(resp.text)\n"
      ],
      "execution_count": null,
      "outputs": [
        {
          "output_type": "stream",
          "name": "stdout",
          "text": [
            "{\"ok\":true,\"result\":[{\"update_id\":994059547,\n",
            "\"poll\":{\"id\":\"6131740575877038097\",\"question\":\"Bitcoin or Ethereum?\",\"options\":[{\"text\":\"Bitcoin\",\"voter_count\":1},{\"text\":\"Ethereum\",\"voter_count\":0}],\"total_voter_count\":1,\"is_closed\":false,\"is_anonymous\":true,\"type\":\"regular\",\"allows_multiple_answers\":false}},{\"update_id\":994059548,\n",
            "\"message\":{\"message_id\":205,\"from\":{\"id\":350907917,\"is_bot\":false,\"first_name\":\"Vikas Jha\",\"username\":\"vikasjha001\"},\"chat\":{\"id\":-402253018,\"title\":\"hello world training\",\"type\":\"group\",\"all_members_are_administrators\":true},\"date\":1638091597,\"left_chat_participant\":{\"id\":350907917,\"is_bot\":false,\"first_name\":\"Vikas Jha\",\"username\":\"vikasjha001\"},\"left_chat_member\":{\"id\":350907917,\"is_bot\":false,\"first_name\":\"Vikas Jha\",\"username\":\"vikasjha001\"}}},{\"update_id\":994059549,\n",
            "\"message\":{\"message_id\":206,\"from\":{\"id\":350907917,\"is_bot\":false,\"first_name\":\"Vikas Jha\",\"username\":\"vikasjha001\"},\"chat\":{\"id\":-402253018,\"title\":\"hello world training\",\"type\":\"group\",\"all_members_are_administrators\":true},\"date\":1638091712,\"new_chat_participant\":{\"id\":350907917,\"is_bot\":false,\"first_name\":\"Vikas Jha\",\"username\":\"vikasjha001\"},\"new_chat_member\":{\"id\":350907917,\"is_bot\":false,\"first_name\":\"Vikas Jha\",\"username\":\"vikasjha001\"},\"new_chat_members\":[{\"id\":350907917,\"is_bot\":false,\"first_name\":\"Vikas Jha\",\"username\":\"vikasjha001\"}]}},{\"update_id\":994059550,\n",
            "\"poll\":{\"id\":\"6131740575877038098\",\"question\":\"Bitcoin or Ethereum?\",\"options\":[{\"text\":\"Bitcoin\",\"voter_count\":1},{\"text\":\"Ethereum\",\"voter_count\":1}],\"total_voter_count\":1,\"is_closed\":false,\"is_anonymous\":true,\"type\":\"regular\",\"allows_multiple_answers\":true}},{\"update_id\":994059551,\n",
            "\"poll\":{\"id\":\"6131740575877038099\",\"question\":\"Bitcoin or Ethereum?\",\"options\":[{\"text\":\"Bitcoin\",\"voter_count\":1},{\"text\":\"Ethereum\",\"voter_count\":0}],\"total_voter_count\":1,\"is_closed\":false,\"is_anonymous\":true,\"type\":\"quiz\",\"allows_multiple_answers\":false,\"correct_option_id\":0}},{\"update_id\":994059552,\n",
            "\"poll\":{\"id\":\"6131740575877038100\",\"question\":\"Bitcoin or Ethereum?\",\"options\":[{\"text\":\"Bitcoin\",\"voter_count\":1},{\"text\":\"Ethereum\",\"voter_count\":0}],\"total_voter_count\":1,\"is_closed\":false,\"is_anonymous\":true,\"type\":\"quiz\",\"allows_multiple_answers\":false,\"correct_option_id\":1}},{\"update_id\":994059553,\n",
            "\"poll\":{\"id\":\"6131740575877038101\",\"question\":\"Are you investing in Bitcoin or Ethereum?\",\"options\":[{\"text\":\"Bitcoin\",\"voter_count\":1},{\"text\":\"Ethereum\",\"voter_count\":0}],\"total_voter_count\":1,\"is_closed\":false,\"is_anonymous\":true,\"type\":\"regular\",\"allows_multiple_answers\":false}},{\"update_id\":994059554,\n",
            "\"poll\":{\"id\":\"6131740575877038102\",\"question\":\"Are you investing in Bitcoin or Ethereum?\",\"options\":[{\"text\":\"Bitcoin\",\"voter_count\":1},{\"text\":\"Ethereum\",\"voter_count\":0}],\"total_voter_count\":1,\"is_closed\":false,\"is_anonymous\":false,\"type\":\"regular\",\"allows_multiple_answers\":false}},{\"update_id\":994059555,\n",
            "\"poll_answer\":{\"poll_id\":\"6131740575877038102\",\"user\":{\"id\":350907917,\"is_bot\":false,\"first_name\":\"Vikas Jha\",\"username\":\"vikasjha001\"},\"option_ids\":[0]}},{\"update_id\":994059556,\n",
            "\"poll\":{\"id\":\"6131740575877038103\",\"question\":\"How much is 2+2 ?\",\"options\":[{\"text\":\"1\",\"voter_count\":1},{\"text\":\"2\",\"voter_count\":0},{\"text\":\"4\",\"voter_count\":0}],\"total_voter_count\":1,\"is_closed\":false,\"is_anonymous\":false,\"type\":\"quiz\",\"allows_multiple_answers\":false,\"correct_option_id\":2}},{\"update_id\":994059557,\n",
            "\"poll_answer\":{\"poll_id\":\"6131740575877038103\",\"user\":{\"id\":350907917,\"is_bot\":false,\"first_name\":\"Vikas Jha\",\"username\":\"vikasjha001\"},\"option_ids\":[0]}},{\"update_id\":994059558,\n",
            "\"poll\":{\"id\":\"6131740575877038104\",\"question\":\"How much is 2+2 ?\",\"options\":[{\"text\":\"1\",\"voter_count\":0},{\"text\":\"2\",\"voter_count\":1},{\"text\":\"4\",\"voter_count\":0}],\"total_voter_count\":1,\"is_closed\":false,\"is_anonymous\":false,\"type\":\"quiz\",\"allows_multiple_answers\":false,\"correct_option_id\":2,\"explanation\":\"Learn some mathematics\",\"explanation_entities\":[]}},{\"update_id\":994059559,\n",
            "\"poll_answer\":{\"poll_id\":\"6131740575877038104\",\"user\":{\"id\":350907917,\"is_bot\":false,\"first_name\":\"Vikas Jha\",\"username\":\"vikasjha001\"},\"option_ids\":[1]}},{\"update_id\":994059560,\n",
            "\"my_chat_member\":{\"chat\":{\"id\":-1001608236798,\"title\":\"hello world training\",\"type\":\"supergroup\"},\"from\":{\"id\":350907917,\"is_bot\":false,\"first_name\":\"Vikas Jha\",\"username\":\"vikasjha001\"},\"date\":1638110132,\"old_chat_member\":{\"user\":{\"id\":1822361510,\"is_bot\":true,\"first_name\":\"hello world bot\",\"username\":\"hello_world_01_bot\"},\"status\":\"left\"},\"new_chat_member\":{\"user\":{\"id\":1822361510,\"is_bot\":true,\"first_name\":\"hello world bot\",\"username\":\"hello_world_01_bot\"},\"status\":\"member\"}}},{\"update_id\":994059561,\n",
            "\"message\":{\"message_id\":224,\"from\":{\"id\":350907917,\"is_bot\":false,\"first_name\":\"Vikas Jha\",\"username\":\"vikasjha001\"},\"chat\":{\"id\":-402253018,\"title\":\"hello world training\",\"type\":\"group\",\"all_members_are_administrators\":false},\"date\":1638110132,\"migrate_to_chat_id\":-1001608236798}},{\"update_id\":994059562,\n",
            "\"message\":{\"message_id\":1,\"from\":{\"id\":1087968824,\"is_bot\":true,\"first_name\":\"Group\",\"username\":\"GroupAnonymousBot\"},\"sender_chat\":{\"id\":-1001608236798,\"title\":\"hello world training\",\"type\":\"supergroup\"},\"chat\":{\"id\":-1001608236798,\"title\":\"hello world training\",\"type\":\"supergroup\"},\"date\":1638110132,\"migrate_from_chat_id\":-402253018}},{\"update_id\":994059563,\n",
            "\"my_chat_member\":{\"chat\":{\"id\":-334160137,\"title\":\"vikasjha001_chatbot_management\",\"type\":\"group\",\"all_members_are_administrators\":true},\"from\":{\"id\":350907917,\"is_bot\":false,\"first_name\":\"Vikas Jha\",\"username\":\"vikasjha001\"},\"date\":1638110784,\"old_chat_member\":{\"user\":{\"id\":1822361510,\"is_bot\":true,\"first_name\":\"hello world bot\",\"username\":\"hello_world_01_bot\"},\"status\":\"left\"},\"new_chat_member\":{\"user\":{\"id\":1822361510,\"is_bot\":true,\"first_name\":\"hello world bot\",\"username\":\"hello_world_01_bot\"},\"status\":\"member\"}}},{\"update_id\":994059564,\n",
            "\"message\":{\"message_id\":225,\"from\":{\"id\":350907917,\"is_bot\":false,\"first_name\":\"Vikas Jha\",\"username\":\"vikasjha001\"},\"chat\":{\"id\":-334160137,\"title\":\"vikasjha001_chatbot_management\",\"type\":\"group\",\"all_members_are_administrators\":true},\"date\":1638110784,\"new_chat_participant\":{\"id\":1822361510,\"is_bot\":true,\"first_name\":\"hello world bot\",\"username\":\"hello_world_01_bot\"},\"new_chat_member\":{\"id\":1822361510,\"is_bot\":true,\"first_name\":\"hello world bot\",\"username\":\"hello_world_01_bot\"},\"new_chat_members\":[{\"id\":1822361510,\"is_bot\":true,\"first_name\":\"hello world bot\",\"username\":\"hello_world_01_bot\"}]}},{\"update_id\":994059565,\n",
            "\"my_chat_member\":{\"chat\":{\"id\":-334160137,\"title\":\"vikasjha001_chatbot_management\",\"type\":\"group\",\"all_members_are_administrators\":true},\"from\":{\"id\":350907917,\"is_bot\":false,\"first_name\":\"Vikas Jha\",\"username\":\"vikasjha001\"},\"date\":1638110790,\"old_chat_member\":{\"user\":{\"id\":1822361510,\"is_bot\":true,\"first_name\":\"hello world bot\",\"username\":\"hello_world_01_bot\"},\"status\":\"member\"},\"new_chat_member\":{\"user\":{\"id\":1822361510,\"is_bot\":true,\"first_name\":\"hello world bot\",\"username\":\"hello_world_01_bot\"},\"status\":\"administrator\",\"can_be_edited\":false,\"can_manage_chat\":true,\"can_change_info\":true,\"can_delete_messages\":true,\"can_invite_users\":true,\"can_restrict_members\":true,\"can_pin_messages\":true,\"can_promote_members\":false,\"can_manage_voice_chats\":true,\"is_anonymous\":false}}},{\"update_id\":994059566,\n",
            "\"message\":{\"message_id\":226,\"from\":{\"id\":350907917,\"is_bot\":false,\"first_name\":\"Vikas Jha\",\"username\":\"vikasjha001\"},\"chat\":{\"id\":-334160137,\"title\":\"vikasjha001_chatbot_management\",\"type\":\"group\",\"all_members_are_administrators\":true},\"date\":1638110816,\"text\":\"Hi\"}}]}\n"
          ]
        }
      ]
    },
    {
      "cell_type": "markdown",
      "metadata": {
        "id": "8yZqcpDJj3LM"
      },
      "source": [
        "# Sending Messages\n",
        "Send Message"
      ]
    },
    {
      "cell_type": "code",
      "metadata": {
        "id": "BQ6PGr0VjqM-",
        "colab": {
          "base_uri": "https://localhost:8080/"
        },
        "outputId": "74d56d04-16be-46f5-967c-ac0a5c3d8eef"
      },
      "source": [
        "import requests\n",
        "import json\n",
        "\n",
        "base_url = \"https://api.telegram.org/bot1822361510:AAE2y6B5vQy35bFu66QNk28_jWoRoGlMc5g/sendMessage\"\n",
        "\n",
        "\n",
        "parameters = {\n",
        "    \"chat_id\" : \"@vikasjhahelloworld001\",\n",
        "    \"text\" : \"\"\"\n",
        "    \\U0001F4B0 :s:\n",
        "\\U0001F4DC Cs:\n",
        "\\U0001F4C8 Ds:\n",
        "\\U0001F4C8 U\n",
        "\\U0001F510 :Li\n",
        "\\U0001F984 Un\t\"\"\"\n",
        "}\n",
        "\n",
        "resp = requests.get(base_url, data = parameters)\n",
        "print(resp.text)\n"
      ],
      "execution_count": null,
      "outputs": [
        {
          "output_type": "stream",
          "name": "stdout",
          "text": [
            "{\"ok\":true,\"result\":{\"message_id\":26,\"from\":{\"id\":1822361510,\"is_bot\":true,\"first_name\":\"hello world bot\",\"username\":\"hello_world_01_bot\"},\"chat\":{\"id\":-1001608236798,\"title\":\"hello world training\",\"username\":\"vikasjhahelloworld001\",\"type\":\"supergroup\"},\"date\":1638267777,\"text\":\"\\ud83d\\udcb0 :s:\\n\\ud83d\\udcdc Cs:\\n\\ud83d\\udcc8 Ds:\\n\\ud83d\\udcc8 U\\n\\ud83d\\udd10 :Li\\n\\ud83e\\udd84 Un\"}}\n"
          ]
        }
      ]
    },
    {
      "cell_type": "code",
      "metadata": {
        "colab": {
          "base_uri": "https://localhost:8080/"
        },
        "id": "S_O1CkP8ZS5i",
        "outputId": "447aa72f-7bd7-4887-90cd-424a4eb940ac"
      },
      "source": [
        "import requests\n",
        "import pandas as pd\n",
        "import datetime\n",
        "\n",
        "\n",
        "def show_logs(log_msg):\n",
        "  print(\"Log {}\".format(log_msg))\n",
        "\n",
        "######## Set Date and Time Variables #############\n",
        "\n",
        "def start_and_end_date():\n",
        "  try:\n",
        "\n",
        "    timezone_hours = 7\n",
        "\n",
        "    #Get Current UTC Time\n",
        "    current_time = datetime.datetime.now(datetime.timezone.utc).replace(second=0,microsecond=0)\n",
        "    #Add Timezone Hours\n",
        "    current_time = current_time + datetime.timedelta(hours=timezone_hours)\n",
        "\n",
        "    #Set Start and End Date\n",
        "    start_time =  current_time - datetime.timedelta(minutes=120)\n",
        "    end_time = current_time\n",
        "    return [start_time, end_time]\n",
        "\n",
        "  except Exception as e:\n",
        "    show_logs(\"Error From start_and_end_date function: {}\".format(e))\n",
        "\n",
        "\n",
        "####### Read CSV File and Filter Required Data #######\n",
        "\n",
        "def read_csv_file():\n",
        "  url = \"https://docs.google.com/spreadsheets/d/1PIzl30mtub9rjgTJ8IeorbOfoE9CjBcD/export?format=csv\"\n",
        "  df = pd.read_csv(url, encoding=\"unicode_escape\")\n",
        "  return df\n",
        "\n",
        "def filter_csv_file(df, start_time, end_time, consider_date):\n",
        "  try:\n",
        "    if consider_date == 'N':\n",
        "          #Set Start and End Time\n",
        "      start_time = start_time.time()\n",
        "      end_time = end_time.time()\n",
        "      df['Time'] = pd.to_datetime(df['Time'],format='%m/%d/%Y %H:%M:%S').dt.tz_localize('Asia/Jakarta')\n",
        "      df = df[(df['Time'].dt.time > start_time) & (df['Time'].dt.time < end_time)]\n",
        "\n",
        "    if consider_date == 'Y':\n",
        "      start_time = start_time.date()\n",
        "      end_time = end_time.date()\n",
        "      print(\"Start Time: {} \\n End Time: {}\".format(start_time, end_time))\n",
        "      df['Time'] = pd.to_datetime(df['Time'],format='%m/%d/%Y %H:%M:%S')\n",
        "      df = df[((df['Time'].dt.date >= start_time) & (df['Time'].dt.date <= end_time)) | (df['consider_date'] == 'N')]\n",
        "\n",
        "    return df\n",
        "\n",
        "  except Exception as e:\n",
        "    show_logs(\"Error From filter_csv_file function: {}\".format(e))\n",
        "\n",
        "\n",
        "def send_messages(Message, Groups):\n",
        "  try:\n",
        "    groups = Groups.split(\",\")\n",
        "    print(type(groups))\n",
        "    for group in groups:\n",
        "        print(\"group: {}\".format(group))\n",
        "        base_url = \"https://api.telegram.org/bot1822361510:AAE2y6B5vQy35bFu66QNk28_jWoRoGlMc5g/sendMessage\"\n",
        "        parameters = {\n",
        "            \"chat_id\" : \"{}\".format(group),\n",
        "            \"text\" : Message\n",
        "        }\n",
        "        resp = requests.get(base_url, data = parameters)\n",
        "    return resp.text\n",
        "  except Exception as e:\n",
        "    show_logs(\"Error From send_messages function: {}\".format(e))\n",
        "\n",
        "####### Program Starts Here ##############################\n",
        "try:\n",
        "\n",
        "  dates = start_and_end_date()\n",
        "  start_time = dates[0]\n",
        "  end_time = dates[1]\n",
        "  raw_df = read_csv_file()\n",
        "  print(\"original df\")\n",
        "  print(raw_df)\n",
        "  consider_date_df = filter_csv_file( raw_df, start_time, end_time, 'N')\n",
        "  print(\"no date filter\")\n",
        "  print(consider_date_df)\n",
        "  df = filter_csv_file(consider_date_df, start_time, end_time, 'Y')\n",
        "  print(\"final\")\n",
        "  print(df)\n",
        "\n",
        "  print(df)\n",
        "  print(\"Total DF Size: {}\".format(df.shape))\n",
        "\n",
        "  for index, row in df.iterrows():\n",
        "      response = send_messages(row['Message'], row['Groups'])\n",
        "      show_logs(response)\n",
        "\n",
        "except Exception as e:\n",
        "  show_logs(\"Error from main block \" + e)\n",
        "\n",
        "############## Program Ends Here #################################\n"
      ],
      "execution_count": null,
      "outputs": [
        {
          "output_type": "stream",
          "name": "stdout",
          "text": [
            "original df\n",
            "                                  Groups  ... consider_date\n",
            "0  -1001608236798,-334160137,@cryptomonk  ...             N\n",
            "1                         -1001608236798  ...             Y\n",
            "2              -1001608236798,-334160137  ...             Y\n",
            "3  -1001608236798,-334160137,@cryptomonk  ...             Y\n",
            "\n",
            "[4 rows x 4 columns]\n",
            "no date filter\n",
            "                                  Groups  ... consider_date\n",
            "0  -1001608236798,-334160137,@cryptomonk  ...             N\n",
            "\n",
            "[1 rows x 4 columns]\n",
            "Start Time: 2021-12-02 \n",
            " End Time: 2021-12-02\n",
            "final\n",
            "                                  Groups  ... consider_date\n",
            "0  -1001608236798,-334160137,@cryptomonk  ...             N\n",
            "\n",
            "[1 rows x 4 columns]\n",
            "                                  Groups  ... consider_date\n",
            "0  -1001608236798,-334160137,@cryptomonk  ...             N\n",
            "\n",
            "[1 rows x 4 columns]\n",
            "Total DF Size: (1, 4)\n",
            "<class 'list'>\n",
            "group: -1001608236798\n"
          ]
        },
        {
          "output_type": "stream",
          "name": "stderr",
          "text": [
            "/usr/local/lib/python3.7/dist-packages/ipykernel_launcher.py:50: SettingWithCopyWarning: \n",
            "A value is trying to be set on a copy of a slice from a DataFrame.\n",
            "Try using .loc[row_indexer,col_indexer] = value instead\n",
            "\n",
            "See the caveats in the documentation: https://pandas.pydata.org/pandas-docs/stable/user_guide/indexing.html#returning-a-view-versus-a-copy\n"
          ]
        },
        {
          "output_type": "stream",
          "name": "stdout",
          "text": [
            "group: -334160137\n",
            "group: @cryptomonk\n",
            "Log {\"ok\":false,\"error_code\":400,\"description\":\"Bad Request: chat not found\"}\n"
          ]
        }
      ]
    },
    {
      "cell_type": "code",
      "metadata": {
        "colab": {
          "base_uri": "https://localhost:8080/"
        },
        "id": "EI_9KtZHQ-pU",
        "outputId": "ac7c968f-eeac-4d9e-c9fe-f5f1e56a28bc"
      },
      "source": [
        "\n",
        "\n",
        "import emoji\n",
        "\n",
        "def extract_emojis(s):\n",
        "  return ''.join(c for c in s if c in emoji.UNICODE_EMOJI['en'])\n",
        "\n",
        "test = extract_emojis(\"\"\"Ok let me give you a message with all emojis\n",
        "\n",
        ":sparkler:Dblablチ:sparkler::moneybag:\n",
        "\n",
        "\n",
        "🟠 Ruf 🟠\n",
        ":lock:Unis\n",
        ":hourglass_flowing_sand: ttTo\n",
        "\n",
        "🟠Use Case🟠\n",
        ":arrows_counterclockwise: Staking (In progress...)\n",
        ":arrows_counterclockwise: NFT plateform (Coming Soon)\n",
        ":arrows_counterclockwise: G\n",
        "\n",
        "🟠Sh🟠\n",
        ":robot_face:Antit :robot_face:& :whale: Whale\n",
        ":spiral_calendar_pad: la\n",
        "🟠Sia🟠\n",
        "\n",
        ":loudspeaker: Tenu\n",
        "\n",
        "\n",
        "🟠 Informations🟠\n",
        ":moneybag:s:\n",
        ":scroll:Cs:\n",
        ":chart_with_upwards_trend:Ds:\n",
        ":chart_with_upwards_trend:U\n",
        ":closed_lock_with_key:Li\n",
        ":unicorn_face:Un\n",
        "\n",
        ":spiral_calendar_pad: Rop\"\"\")\n",
        "print(test)"
      ],
      "execution_count": null,
      "outputs": [
        {
          "output_type": "stream",
          "name": "stdout",
          "text": [
            "🟠🟠🟠🟠🟠🟠🟠🟠🟠🟠\n"
          ]
        }
      ]
    },
    {
      "cell_type": "markdown",
      "metadata": {
        "id": "lsM-_RqEwoWW"
      },
      "source": [
        "# Sending Photos"
      ]
    },
    {
      "cell_type": "code",
      "metadata": {
        "colab": {
          "base_uri": "https://localhost:8080/"
        },
        "id": "mTPAt8zvu_ky",
        "outputId": "89873121-0366-4440-dea0-613be382acea"
      },
      "source": [
        "import requests\n",
        "import time\n",
        "\n",
        "base_url = \"https://api.telegram.org/bot1822361510:AAE2y6B5vQy35bFu66QNk28_jWoRoGlMc5g/sendPhoto\"\n",
        "\n",
        "parameters = {\n",
        "    \"chat_id\" : \"-402253018\",\n",
        "    \"photo\" : \"https://unsplash.com/photos/qyAka7W5uMY/download?force=true\",\n",
        "    \"caption\" : \"here is travel photo for you\"\n",
        "}\n",
        "\n",
        "resp = requests.get(base_url, data = parameters)\n",
        "print(resp.text)\n"
      ],
      "execution_count": null,
      "outputs": [
        {
          "output_type": "stream",
          "text": [
            "{\"ok\":true,\"result\":{\"message_id\":20,\"from\":{\"id\":1822361510,\"is_bot\":true,\"first_name\":\"hello world bot\",\"username\":\"hello_world_01_bot\"},\"chat\":{\"id\":-402253018,\"title\":\"hello world training\",\"type\":\"group\",\"all_members_are_administrators\":true},\"date\":1622755198,\"photo\":[{\"file_id\":\"AgACAgQAAxkDAAMUYLlHfuFMxhbF3bQG_Thlq1dvfboAAmCsMRuQCqVRo3jK6PavWmrEZfksXQADAQADAgADcwADBy4CAAEfBA\",\"file_unique_id\":\"AQADxGX5LF0AAwcuAgAB\",\"file_size\":1747,\"width\":90,\"height\":71},{\"file_id\":\"AgACAgQAAxkDAAMUYLlHfuFMxhbF3bQG_Thlq1dvfboAAmCsMRuQCqVRo3jK6PavWmrEZfksXQADAQADAgADbQADCC4CAAEfBA\",\"file_unique_id\":\"AQADxGX5LF0AAwguAgAB\",\"file_size\":31410,\"width\":320,\"height\":253},{\"file_id\":\"AgACAgQAAxkDAAMUYLlHfuFMxhbF3bQG_Thlq1dvfboAAmCsMRuQCqVRo3jK6PavWmrEZfksXQADAQADAgADeAADCS4CAAEfBA\",\"file_unique_id\":\"AQADxGX5LF0AAwkuAgAB\",\"file_size\":161780,\"width\":800,\"height\":632},{\"file_id\":\"AgACAgQAAxkDAAMUYLlHfuFMxhbF3bQG_Thlq1dvfboAAmCsMRuQCqVRo3jK6PavWmrEZfksXQADAQADAgADeQADCi4CAAEfBA\",\"file_unique_id\":\"AQADxGX5LF0AAwouAgAB\",\"file_size\":371056,\"width\":1280,\"height\":1011},{\"file_id\":\"AgACAgQAAxkDAAMUYLlHfuFMxhbF3bQG_Thlq1dvfboAAmCsMRuQCqVRo3jK6PavWmrEZfksXQADAQADAgADdwADCy4CAAEfBA\",\"file_unique_id\":\"AQADxGX5LF0AAwsuAgAB\",\"file_size\":1111026,\"width\":2560,\"height\":2022}],\"caption\":\"here is travel photo for you\"}}\n"
          ],
          "name": "stdout"
        }
      ]
    },
    {
      "cell_type": "markdown",
      "metadata": {
        "id": "X441B70uwuDS"
      },
      "source": [
        "# Sending Multiple Photos"
      ]
    },
    {
      "cell_type": "code",
      "metadata": {
        "colab": {
          "base_uri": "https://localhost:8080/"
        },
        "id": "-fx7JizJv4mu",
        "outputId": "5223b05a-bd41-4c85-8570-ea713a1a767a"
      },
      "source": [
        "import requests\n",
        "import time\n",
        "\n",
        "base_url = \"https://api.telegram.org/bot1822361510:AAE2y6B5vQy35bFu66QNk28_jWoRoGlMc5g/sendPhoto\"\n",
        "\n",
        "urls = [\n",
        "        \"https://unsplash.com/photos/jv15x2Gs5F8/download?force=true\",\n",
        "        \"https://unsplash.com/photos/miKmVyq3qhE/download?force=true\",\n",
        "        \"https://unsplash.com/photos/tMzCrBkM99Y/download?force=true\"\n",
        "\n",
        "]\n",
        "\n",
        "for url in urls:\n",
        "  time.sleep(10)\n",
        "  parameters = {\n",
        "      \"chat_id\" : \"-402253018\",\n",
        "      \"photo\" : url,\n",
        "      \"caption\" : \"here is travel photo for you\"\n",
        "  }\n",
        "\n",
        "  resp = requests.get(base_url, data = parameters)\n",
        "  print(resp.text)\n"
      ],
      "execution_count": null,
      "outputs": [
        {
          "output_type": "stream",
          "text": [
            "{\"ok\":true,\"result\":{\"message_id\":21,\"from\":{\"id\":1822361510,\"is_bot\":true,\"first_name\":\"hello world bot\",\"username\":\"hello_world_01_bot\"},\"chat\":{\"id\":-402253018,\"title\":\"hello world training\",\"type\":\"group\",\"all_members_are_administrators\":true},\"date\":1622755329,\"photo\":[{\"file_id\":\"AgACAgQAAxkDAAMVYLlIAVrqydjsYAIa7_xQjVm0U2sAAiesMRtoXNRRuYlW4fkhk-DYBQEtXQADAQADAgADcwADmYoCAAEfBA\",\"file_unique_id\":\"AQAD2AUBLV0AA5mKAgAB\",\"file_size\":919,\"width\":60,\"height\":90},{\"file_id\":\"AgACAgQAAxkDAAMVYLlIAVrqydjsYAIa7_xQjVm0U2sAAiesMRtoXNRRuYlW4fkhk-DYBQEtXQADAQADAgADbQADmIoCAAEfBA\",\"file_unique_id\":\"AQAD2AUBLV0AA5iKAgAB\",\"file_size\":7608,\"width\":213,\"height\":320},{\"file_id\":\"AgACAgQAAxkDAAMVYLlIAVrqydjsYAIa7_xQjVm0U2sAAiesMRtoXNRRuYlW4fkhk-DYBQEtXQADAQADAgADeAADmooCAAEfBA\",\"file_unique_id\":\"AQAD2AUBLV0AA5qKAgAB\",\"file_size\":28033,\"width\":533,\"height\":800},{\"file_id\":\"AgACAgQAAxkDAAMVYLlIAVrqydjsYAIa7_xQjVm0U2sAAiesMRtoXNRRuYlW4fkhk-DYBQEtXQADAQADAgADeQADm4oCAAEfBA\",\"file_unique_id\":\"AQAD2AUBLV0AA5uKAgAB\",\"file_size\":58049,\"width\":853,\"height\":1280},{\"file_id\":\"AgACAgQAAxkDAAMVYLlIAVrqydjsYAIa7_xQjVm0U2sAAiesMRtoXNRRuYlW4fkhk-DYBQEtXQADAQADAgADdwADnIoCAAEfBA\",\"file_unique_id\":\"AQAD2AUBLV0AA5yKAgAB\",\"file_size\":184239,\"width\":1707,\"height\":2560}],\"caption\":\"here is travel photo for you\"}}\n",
            "{\"ok\":false,\"error_code\":400,\"description\":\"Bad Request: failed to get HTTP URL content\"}\n",
            "{\"ok\":true,\"result\":{\"message_id\":22,\"from\":{\"id\":1822361510,\"is_bot\":true,\"first_name\":\"hello world bot\",\"username\":\"hello_world_01_bot\"},\"chat\":{\"id\":-402253018,\"title\":\"hello world training\",\"type\":\"group\",\"all_members_are_administrators\":true},\"date\":1622755352,\"photo\":[{\"file_id\":\"AgACAgQAAxkDAAMWYLlIGMn3QXCHKpvxvzWwYW4XZ18AAl4LOhtEHmQHqBaYixTUTbT3UuAZAAQBAAMCAANzAAMj4AMAAR8E\",\"file_unique_id\":\"AQAD91LgGQAEI-ADAAE\",\"file_size\":1056,\"width\":60,\"height\":90},{\"file_id\":\"AgACAgQAAxkDAAMWYLlIGMn3QXCHKpvxvzWwYW4XZ18AAl4LOhtEHmQHqBaYixTUTbT3UuAZAAQBAAMCAANtAAMk4AMAAR8E\",\"file_unique_id\":\"AQAD91LgGQAEJOADAAE\",\"file_size\":18610,\"width\":213,\"height\":320},{\"file_id\":\"AgACAgQAAxkDAAMWYLlIGMn3QXCHKpvxvzWwYW4XZ18AAl4LOhtEHmQHqBaYixTUTbT3UuAZAAQBAAMCAAN4AAMl4AMAAR8E\",\"file_unique_id\":\"AQAD91LgGQAEJeADAAE\",\"file_size\":91250,\"width\":533,\"height\":800},{\"file_id\":\"AgACAgQAAxkDAAMWYLlIGMn3QXCHKpvxvzWwYW4XZ18AAl4LOhtEHmQHqBaYixTUTbT3UuAZAAQBAAMCAAN5AAMm4AMAAR8E\",\"file_unique_id\":\"AQAD91LgGQAEJuADAAE\",\"file_size\":225212,\"width\":853,\"height\":1280},{\"file_id\":\"AgACAgQAAxkDAAMWYLlIGMn3QXCHKpvxvzWwYW4XZ18AAl4LOhtEHmQHqBaYixTUTbT3UuAZAAQBAAMCAAN3AAMn4AMAAR8E\",\"file_unique_id\":\"AQAD91LgGQAEJ-ADAAE\",\"file_size\":838923,\"width\":1707,\"height\":2560}],\"caption\":\"here is travel photo for you\"}}\n"
          ],
          "name": "stdout"
        }
      ]
    },
    {
      "cell_type": "markdown",
      "metadata": {
        "id": "N1_O2xkt9Pu-"
      },
      "source": [
        "# Send Local Images to Telegram"
      ]
    },
    {
      "cell_type": "code",
      "metadata": {
        "colab": {
          "base_uri": "https://localhost:8080/"
        },
        "id": "CtfulcKoyAmL",
        "outputId": "030040c5-1074-48d6-d90b-965ded0927df"
      },
      "source": [
        "import requests\n",
        "import time\n",
        "\n",
        "base_url = \"https://api.telegram.org/bot1822361510:AAE2y6B5vQy35bFu66QNk28_jWoRoGlMc5g/sendPhoto\"\n",
        "\n",
        "my_file = open(\"/content/sample_data/My_Image.png\", \"rb\")\n",
        "\n",
        "parameters = {\n",
        "    \"chat_id\" : \"-402253018\",\n",
        "    \"caption\" : \"here is another caption, photo for you\"\n",
        "}\n",
        "\n",
        "\n",
        "files = {\n",
        "    \"photo\" : my_file\n",
        "}\n",
        "\n",
        "resp = requests.get(base_url, data = parameters, files=files)\n",
        "print(resp.text)\n"
      ],
      "execution_count": null,
      "outputs": [
        {
          "output_type": "stream",
          "text": [
            "{\"ok\":true,\"result\":{\"message_id\":27,\"from\":{\"id\":1822361510,\"is_bot\":true,\"first_name\":\"hello world bot\",\"username\":\"hello_world_01_bot\"},\"chat\":{\"id\":-402253018,\"title\":\"hello world training\",\"type\":\"group\",\"all_members_are_administrators\":true},\"date\":1622793409,\"photo\":[{\"file_id\":\"AgACAgUAAxkDAAMbYLncwY6h_XqlQVsORFr6dB3ORewAAn6rMRvGSNBVo7hZ_ofEeSd9DIBydAADAQADAgADcwAD8jMAAh8E\",\"file_unique_id\":\"AQADfQyAcnQAA_IzAAI\",\"file_size\":1501,\"width\":90,\"height\":51},{\"file_id\":\"AgACAgUAAxkDAAMbYLncwY6h_XqlQVsORFr6dB3ORewAAn6rMRvGSNBVo7hZ_ofEeSd9DIBydAADAQADAgADbQAD8TMAAh8E\",\"file_unique_id\":\"AQADfQyAcnQAA_EzAAI\",\"file_size\":14224,\"width\":320,\"height\":180},{\"file_id\":\"AgACAgUAAxkDAAMbYLncwY6h_XqlQVsORFr6dB3ORewAAn6rMRvGSNBVo7hZ_ofEeSd9DIBydAADAQADAgADeAAD8zMAAh8E\",\"file_unique_id\":\"AQADfQyAcnQAA_MzAAI\",\"file_size\":48237,\"width\":800,\"height\":450},{\"file_id\":\"AgACAgUAAxkDAAMbYLncwY6h_XqlQVsORFr6dB3ORewAAn6rMRvGSNBVo7hZ_ofEeSd9DIBydAADAQADAgADeQAD8DMAAh8E\",\"file_unique_id\":\"AQADfQyAcnQAA_AzAAI\",\"file_size\":83532,\"width\":1280,\"height\":720}],\"caption\":\"here is another caption, photo for you\"}}\n"
          ],
          "name": "stdout"
        }
      ]
    },
    {
      "cell_type": "markdown",
      "metadata": {
        "id": "jlP1y60MtHLH"
      },
      "source": [
        "# Sending Audio File from URL"
      ]
    },
    {
      "cell_type": "code",
      "metadata": {
        "colab": {
          "base_uri": "https://localhost:8080/"
        },
        "id": "lknXkKLMCa8u",
        "outputId": "de1604b4-5b91-4af2-bddb-9f7caa72fc3a"
      },
      "source": [
        "import requests\n",
        "import time\n",
        "\n",
        "base_url = \"https://api.telegram.org/bot1822361510:AAE2y6B5vQy35bFu66QNk28_jWoRoGlMc5g/sendAudio\"\n",
        "\n",
        "parameters = {\n",
        "    \"chat_id\" : \"-402253018\",\n",
        "    \"audio\" : \"https://www.bensound.com/bensound-music/bensound-ukulele.mp3\",\n",
        "    \"caption\" : \"here is an audio file for you\"\n",
        "}\n",
        "\n",
        "resp = requests.get(base_url, data = parameters)\n",
        "print(resp.text)\n"
      ],
      "execution_count": null,
      "outputs": [
        {
          "output_type": "stream",
          "text": [
            "{\"ok\":true,\"result\":{\"message_id\":28,\"from\":{\"id\":1822361510,\"is_bot\":true,\"first_name\":\"hello world bot\",\"username\":\"hello_world_01_bot\"},\"chat\":{\"id\":-402253018,\"title\":\"hello world training\",\"type\":\"group\",\"all_members_are_administrators\":true},\"date\":1622793693,\"audio\":{\"duration\":146,\"file_name\":\"bensound-ukulele.mp3\",\"mime_type\":\"audio/mpeg\",\"file_id\":\"CQACAgQAAxkDAAMcYLnd3JGvkA1lv6_ATm5XZGw882AAAq0HAQAB5xxkB0oIpP5AJMZiHwQ\",\"file_unique_id\":\"AgADrQcBAAHnHGQH\",\"file_size\":2050193},\"caption\":\"here is an audio file for you\"}}\n"
          ],
          "name": "stdout"
        }
      ]
    },
    {
      "cell_type": "markdown",
      "metadata": {
        "id": "AOXk--kxtNjV"
      },
      "source": [
        "# Sending Audio File from Local Disk or Drive"
      ]
    },
    {
      "cell_type": "code",
      "metadata": {
        "colab": {
          "base_uri": "https://localhost:8080/"
        },
        "id": "OJ5FajbSC5Cb",
        "outputId": "7c8b484b-75cc-43ce-eb84-f8a0b706bca8"
      },
      "source": [
        "import requests\n",
        "import time\n",
        "\n",
        "base_url = \"https://api.telegram.org/bot1822361510:AAE2y6B5vQy35bFu66QNk28_jWoRoGlMc5g/sendAudio\"\n",
        "\n",
        "my_file = open(\"/content/sample_data/puncak.wav\", \"rb\")\n",
        "\n",
        "parameters = {\n",
        "    \"chat_id\" : \"-402253018\",\n",
        "    \"caption\" : \"here is another audio file for you\"\n",
        "}\n",
        "\n",
        "\n",
        "files = {\n",
        "    \"audio\" : my_file\n",
        "}\n",
        "\n",
        "resp = requests.get(base_url, data = parameters, files=files)\n",
        "print(resp.text)\n"
      ],
      "execution_count": null,
      "outputs": [
        {
          "output_type": "stream",
          "text": [
            "{\"ok\":true,\"result\":{\"message_id\":29,\"from\":{\"id\":1822361510,\"is_bot\":true,\"first_name\":\"hello world bot\",\"username\":\"hello_world_01_bot\"},\"chat\":{\"id\":-402253018,\"title\":\"hello world training\",\"type\":\"group\",\"all_members_are_administrators\":true},\"date\":1622793842,\"audio\":{\"duration\":0,\"file_name\":\"puncak.wav\",\"mime_type\":\"audio/x-wav\",\"file_id\":\"CQACAgUAAxkDAAMdYLnecnDlRR2YEUjTbSAtJEmcf3IAArIDAALGSNBVj-ntSx__fsofBA\",\"file_unique_id\":\"AgADsgMAAsZI0FU\",\"file_size\":22020096},\"caption\":\"here is another audio file for you\"}}\n"
          ],
          "name": "stdout"
        }
      ]
    },
    {
      "cell_type": "markdown",
      "metadata": {
        "id": "ZrWLOF77tWgk"
      },
      "source": [
        "# Sending a CSV File"
      ]
    },
    {
      "cell_type": "code",
      "metadata": {
        "colab": {
          "base_uri": "https://localhost:8080/"
        },
        "id": "LyWY5yNdtfnR",
        "outputId": "413a9f52-775d-445f-a093-e4229f5831be"
      },
      "source": [
        "import requests\n",
        "import time\n",
        "\n",
        "base_url = \"https://api.telegram.org/bot1822361510:AAE2y6B5vQy35bFu66QNk28_jWoRoGlMc5g/sendDocument\"\n",
        "\n",
        "my_file = open(\"/content/sample_data/mnist_train_small.csv\", \"rb\")\n",
        "\n",
        "parameters = {\n",
        "    \"chat_id\" : \"-402253018\",\n",
        "    \"caption\" : \"here is another document for you\"\n",
        "}\n",
        "\n",
        "\n",
        "files = {\n",
        "    \"document\" : my_file\n",
        "}\n",
        "\n",
        "resp = requests.get(base_url, data = parameters, files=files)\n",
        "print(resp.text)\n"
      ],
      "execution_count": null,
      "outputs": [
        {
          "output_type": "stream",
          "text": [
            "{\"ok\":true,\"result\":{\"message_id\":30,\"from\":{\"id\":1822361510,\"is_bot\":true,\"first_name\":\"hello world bot\",\"username\":\"hello_world_01_bot\"},\"chat\":{\"id\":-402253018,\"title\":\"hello world training\",\"type\":\"group\",\"all_members_are_administrators\":true},\"date\":1622805105,\"document\":{\"file_name\":\"mnist_train_small.csv\",\"mime_type\":\"text/csv\",\"file_id\":\"BQACAgUAAxkDAAMeYLoKcVFcOy7RrU-iQPnF6ruWinEAAs4DAALGSNBVlAuHGM234rAfBA\",\"file_unique_id\":\"AgADzgMAAsZI0FU\",\"file_size\":36523880},\"caption\":\"here is another document for you\"}}\n"
          ],
          "name": "stdout"
        }
      ]
    },
    {
      "cell_type": "markdown",
      "metadata": {
        "id": "K3-_JSd8xVkU"
      },
      "source": [
        "# Start Creating Chatbot"
      ]
    },
    {
      "cell_type": "markdown",
      "metadata": {
        "id": "lNAPaS7s12IG"
      },
      "source": [
        "\n",
        "\n",
        "> Indented block\n",
        "\n"
      ]
    },
    {
      "cell_type": "code",
      "metadata": {
        "colab": {
          "base_uri": "https://localhost:8080/"
        },
        "id": "d3lcSxt4xpue",
        "outputId": "ac83ef84-c169-43b7-82a8-d448c2e34eac"
      },
      "source": [
        "import requests\n",
        "\n",
        "base_url = \"https://api.telegram.org/bot1822361510:AAE2y6B5vQy35bFu66QNk28_jWoRoGlMc5g\"\n",
        "\n",
        "\n",
        "\n",
        "def read_msg():\n",
        "\n",
        "  parameters = {\n",
        "      \"offset\" : \"994059489\"\n",
        "  }\n",
        "\n",
        "  resp = requests.get(base_url + \"/getUpdates\", data = parameters)\n",
        "  data = resp.json()\n",
        "\n",
        "  for result in data[\"result\"]:\n",
        "    if \"hi\" in result[\"message\"][\"text\"]:\n",
        "      send_msg()\n",
        "\n",
        "\n",
        "def send_msg():\n",
        "  parameters = {\n",
        "      \"chat_id\" : \"-402253018\",\n",
        "      \"text\" : \"Hello !!!\"\n",
        "  }\n",
        "\n",
        "  resp = requests.get(base_url + \"/sendMessage\", data = parameters)\n",
        "  print(resp.text)\n",
        "\n",
        "\n",
        "\n",
        "read_msg()"
      ],
      "execution_count": null,
      "outputs": [
        {
          "output_type": "stream",
          "text": [
            "{\"ok\":true,\"result\":{\"message_id\":34,\"from\":{\"id\":1822361510,\"is_bot\":true,\"first_name\":\"hello world bot\",\"username\":\"hello_world_01_bot\"},\"chat\":{\"id\":-402253018,\"title\":\"hello world training\",\"type\":\"group\",\"all_members_are_administrators\":true},\"date\":1622806970,\"text\":\"Hello !!!\"}}\n"
          ],
          "name": "stdout"
        }
      ]
    },
    {
      "cell_type": "markdown",
      "metadata": {
        "id": "xpny3pvk_G4r"
      },
      "source": [
        "# Chatbot"
      ]
    },
    {
      "cell_type": "code",
      "metadata": {
        "colab": {
          "base_uri": "https://localhost:8080/",
          "height": 1000
        },
        "id": "edYVAB2lUghe",
        "outputId": "b50c97d4-683c-4770-a4fb-efbec44d9085"
      },
      "source": [
        "import requests\n",
        "import pandas as pd\n",
        "\n",
        "url = 'https://raw.githubusercontent.com/vikasjha001/telegram/main/qna_chitchat_professional.tsv'\n",
        "\n",
        "df = pd.read_csv(url, sep=\"\\t\")\n",
        "\n",
        "\n",
        "base_url = \"https://api.telegram.org/bot1822361510:AAE2y6B5vQy35bFu66QNk28_jWoRoGlMc5g\"\n",
        "\n",
        "\n",
        "\n",
        "def read_msg(offset):\n",
        "\n",
        "  parameters = {\n",
        "      \"offset\" : offset\n",
        "  }\n",
        "\n",
        "  resp = requests.get(base_url + \"/getUpdates\", data = parameters)\n",
        "  data = resp.json()\n",
        "\n",
        "  print(data)\n",
        "\n",
        "  for result in data[\"result\"]:\n",
        "    send_msg(result)\n",
        "\n",
        "  if data[\"result\"]:\n",
        "    return data[\"result\"][-1][\"update_id\"] + 1\n",
        "\n",
        "\n",
        "\n",
        "def auto_answer(message):\n",
        "  answer = df.loc[df['Question'].str.lower() == message.lower()]\n",
        "\n",
        "  if not answer.empty:\n",
        "      answer = answer.iloc[0]['Answer']\n",
        "      return answer\n",
        "  else:\n",
        "      return \"Sorry, I could not understand you !!! I am still learning and try to get better in answering.\"\n",
        "\n",
        "\n",
        "\n",
        "def send_msg(message):\n",
        "  text = message[\"message\"][\"text\"]\n",
        "  message_id = message[\"message\"][\"message_id\"]\n",
        "  answer = auto_answer(text)\n",
        "\n",
        "  parameters = {\n",
        "      \"chat_id\" : \"-402253018\",\n",
        "      \"text\" : answer,\n",
        "      \"reply_to_message_id\" : message_id\n",
        "  }\n",
        "\n",
        "  resp = requests.get(base_url + \"/sendMessage\", data = parameters)\n",
        "  print(resp.text)\n",
        "\n",
        "offset = 0\n",
        "\n",
        "while True:\n",
        "  offset = read_msg(offset)\n"
      ],
      "execution_count": null,
      "outputs": [
        {
          "output_type": "stream",
          "text": [
            "{'ok': True, 'result': [{'update_id': 994059521, 'message': {'message_id': 93, 'from': {'id': 350907917, 'is_bot': False, 'first_name': 'Vikas Jha', 'username': 'vikasjha001'}, 'chat': {'id': -402253018, 'title': 'hello world training', 'type': 'group', 'all_members_are_administrators': True}, 'date': 1623554666, 'text': 'hi'}}]}\n",
            "{\"ok\":true,\"result\":{\"message_id\":94,\"from\":{\"id\":1822361510,\"is_bot\":true,\"first_name\":\"hello world bot\",\"username\":\"hello_world_01_bot\"},\"chat\":{\"id\":-402253018,\"title\":\"hello world training\",\"type\":\"group\",\"all_members_are_administrators\":true},\"date\":1623554736,\"reply_to_message\":{\"message_id\":93,\"from\":{\"id\":350907917,\"is_bot\":false,\"first_name\":\"Vikas Jha\",\"username\":\"vikasjha001\"},\"chat\":{\"id\":-402253018,\"title\":\"hello world training\",\"type\":\"group\",\"all_members_are_administrators\":true},\"date\":1623554666,\"text\":\"hi\"},\"text\":\"Hello.\"}}\n",
            "{'ok': True, 'result': []}\n",
            "{'ok': True, 'result': []}\n",
            "{'ok': True, 'result': []}\n",
            "{'ok': True, 'result': []}\n",
            "{'ok': True, 'result': []}\n",
            "{'ok': True, 'result': []}\n",
            "{'ok': True, 'result': [{'update_id': 994059522, 'message': {'message_id': 95, 'from': {'id': 350907917, 'is_bot': False, 'first_name': 'Vikas Jha', 'username': 'vikasjha001'}, 'chat': {'id': -402253018, 'title': 'hello world training', 'type': 'group', 'all_members_are_administrators': True}, 'date': 1623554746, 'text': 'hello'}}]}\n",
            "{\"ok\":true,\"result\":{\"message_id\":96,\"from\":{\"id\":1822361510,\"is_bot\":true,\"first_name\":\"hello world bot\",\"username\":\"hello_world_01_bot\"},\"chat\":{\"id\":-402253018,\"title\":\"hello world training\",\"type\":\"group\",\"all_members_are_administrators\":true},\"date\":1623554747,\"reply_to_message\":{\"message_id\":95,\"from\":{\"id\":350907917,\"is_bot\":false,\"first_name\":\"Vikas Jha\",\"username\":\"vikasjha001\"},\"chat\":{\"id\":-402253018,\"title\":\"hello world training\",\"type\":\"group\",\"all_members_are_administrators\":true},\"date\":1623554746,\"text\":\"hello\"},\"text\":\"Hello.\"}}\n",
            "{'ok': True, 'result': []}\n",
            "{'ok': True, 'result': []}\n",
            "{'ok': True, 'result': []}\n",
            "{'ok': True, 'result': []}\n",
            "{'ok': True, 'result': []}\n",
            "{'ok': True, 'result': []}\n",
            "{'ok': True, 'result': []}\n",
            "{'ok': True, 'result': []}\n",
            "{'ok': True, 'result': [{'update_id': 994059523, 'message': {'message_id': 97, 'from': {'id': 350907917, 'is_bot': False, 'first_name': 'Vikas Jha', 'username': 'vikasjha001'}, 'chat': {'id': -402253018, 'title': 'hello world training', 'type': 'group', 'all_members_are_administrators': True}, 'date': 1623554758, 'text': 'Who created you?'}}]}\n",
            "{\"ok\":true,\"result\":{\"message_id\":98,\"from\":{\"id\":1822361510,\"is_bot\":true,\"first_name\":\"hello world bot\",\"username\":\"hello_world_01_bot\"},\"chat\":{\"id\":-402253018,\"title\":\"hello world training\",\"type\":\"group\",\"all_members_are_administrators\":true},\"date\":1623554759,\"reply_to_message\":{\"message_id\":97,\"from\":{\"id\":350907917,\"is_bot\":false,\"first_name\":\"Vikas Jha\",\"username\":\"vikasjha001\"},\"chat\":{\"id\":-402253018,\"title\":\"hello world training\",\"type\":\"group\",\"all_members_are_administrators\":true},\"date\":1623554758,\"text\":\"Who created you?\"},\"text\":\"Vikas Jha created me. His youtube channel ID vikasjha001.\"}}\n",
            "{'ok': True, 'result': []}\n",
            "{'ok': True, 'result': []}\n",
            "{'ok': True, 'result': []}\n",
            "{'ok': True, 'result': []}\n",
            "{'ok': True, 'result': []}\n",
            "{'ok': True, 'result': []}\n",
            "{'ok': True, 'result': []}\n",
            "{'ok': True, 'result': []}\n",
            "{'ok': True, 'result': []}\n",
            "{'ok': True, 'result': []}\n",
            "{'ok': True, 'result': []}\n",
            "{'ok': True, 'result': []}\n",
            "{'ok': True, 'result': []}\n",
            "{'ok': True, 'result': []}\n",
            "{'ok': True, 'result': []}\n",
            "{'ok': True, 'result': []}\n",
            "{'ok': True, 'result': []}\n",
            "{'ok': True, 'result': []}\n",
            "{'ok': True, 'result': []}\n"
          ],
          "name": "stdout"
        },
        {
          "output_type": "error",
          "ename": "KeyboardInterrupt",
          "evalue": "ignored",
          "traceback": [
            "\u001b[0;31m---------------------------------------------------------------------------\u001b[0m",
            "\u001b[0;31mKeyboardInterrupt\u001b[0m                         Traceback (most recent call last)",
            "\u001b[0;32m<ipython-input-4-7c8f7b3d65f0>\u001b[0m in \u001b[0;36m<module>\u001b[0;34m()\u001b[0m\n\u001b[1;32m     58\u001b[0m \u001b[0;34m\u001b[0m\u001b[0m\n\u001b[1;32m     59\u001b[0m \u001b[0;32mwhile\u001b[0m \u001b[0;32mTrue\u001b[0m\u001b[0;34m:\u001b[0m\u001b[0;34m\u001b[0m\u001b[0;34m\u001b[0m\u001b[0m\n\u001b[0;32m---> 60\u001b[0;31m   \u001b[0moffset\u001b[0m \u001b[0;34m=\u001b[0m \u001b[0mread_msg\u001b[0m\u001b[0;34m(\u001b[0m\u001b[0moffset\u001b[0m\u001b[0;34m)\u001b[0m\u001b[0;34m\u001b[0m\u001b[0;34m\u001b[0m\u001b[0m\n\u001b[0m",
            "\u001b[0;32m<ipython-input-4-7c8f7b3d65f0>\u001b[0m in \u001b[0;36mread_msg\u001b[0;34m(offset)\u001b[0m\n\u001b[1;32m     17\u001b[0m   }\n\u001b[1;32m     18\u001b[0m \u001b[0;34m\u001b[0m\u001b[0m\n\u001b[0;32m---> 19\u001b[0;31m   \u001b[0mresp\u001b[0m \u001b[0;34m=\u001b[0m \u001b[0mrequests\u001b[0m\u001b[0;34m.\u001b[0m\u001b[0mget\u001b[0m\u001b[0;34m(\u001b[0m\u001b[0mbase_url\u001b[0m \u001b[0;34m+\u001b[0m \u001b[0;34m\"/getUpdates\"\u001b[0m\u001b[0;34m,\u001b[0m \u001b[0mdata\u001b[0m \u001b[0;34m=\u001b[0m \u001b[0mparameters\u001b[0m\u001b[0;34m)\u001b[0m\u001b[0;34m\u001b[0m\u001b[0;34m\u001b[0m\u001b[0m\n\u001b[0m\u001b[1;32m     20\u001b[0m   \u001b[0mdata\u001b[0m \u001b[0;34m=\u001b[0m \u001b[0mresp\u001b[0m\u001b[0;34m.\u001b[0m\u001b[0mjson\u001b[0m\u001b[0;34m(\u001b[0m\u001b[0;34m)\u001b[0m\u001b[0;34m\u001b[0m\u001b[0;34m\u001b[0m\u001b[0m\n\u001b[1;32m     21\u001b[0m \u001b[0;34m\u001b[0m\u001b[0m\n",
            "\u001b[0;32m/usr/local/lib/python3.7/dist-packages/requests/api.py\u001b[0m in \u001b[0;36mget\u001b[0;34m(url, params, **kwargs)\u001b[0m\n\u001b[1;32m     74\u001b[0m \u001b[0;34m\u001b[0m\u001b[0m\n\u001b[1;32m     75\u001b[0m     \u001b[0mkwargs\u001b[0m\u001b[0;34m.\u001b[0m\u001b[0msetdefault\u001b[0m\u001b[0;34m(\u001b[0m\u001b[0;34m'allow_redirects'\u001b[0m\u001b[0;34m,\u001b[0m \u001b[0;32mTrue\u001b[0m\u001b[0;34m)\u001b[0m\u001b[0;34m\u001b[0m\u001b[0;34m\u001b[0m\u001b[0m\n\u001b[0;32m---> 76\u001b[0;31m     \u001b[0;32mreturn\u001b[0m \u001b[0mrequest\u001b[0m\u001b[0;34m(\u001b[0m\u001b[0;34m'get'\u001b[0m\u001b[0;34m,\u001b[0m \u001b[0murl\u001b[0m\u001b[0;34m,\u001b[0m \u001b[0mparams\u001b[0m\u001b[0;34m=\u001b[0m\u001b[0mparams\u001b[0m\u001b[0;34m,\u001b[0m \u001b[0;34m**\u001b[0m\u001b[0mkwargs\u001b[0m\u001b[0;34m)\u001b[0m\u001b[0;34m\u001b[0m\u001b[0;34m\u001b[0m\u001b[0m\n\u001b[0m\u001b[1;32m     77\u001b[0m \u001b[0;34m\u001b[0m\u001b[0m\n\u001b[1;32m     78\u001b[0m \u001b[0;34m\u001b[0m\u001b[0m\n",
            "\u001b[0;32m/usr/local/lib/python3.7/dist-packages/requests/api.py\u001b[0m in \u001b[0;36mrequest\u001b[0;34m(method, url, **kwargs)\u001b[0m\n\u001b[1;32m     59\u001b[0m     \u001b[0;31m# cases, and look like a memory leak in others.\u001b[0m\u001b[0;34m\u001b[0m\u001b[0;34m\u001b[0m\u001b[0;34m\u001b[0m\u001b[0m\n\u001b[1;32m     60\u001b[0m     \u001b[0;32mwith\u001b[0m \u001b[0msessions\u001b[0m\u001b[0;34m.\u001b[0m\u001b[0mSession\u001b[0m\u001b[0;34m(\u001b[0m\u001b[0;34m)\u001b[0m \u001b[0;32mas\u001b[0m \u001b[0msession\u001b[0m\u001b[0;34m:\u001b[0m\u001b[0;34m\u001b[0m\u001b[0;34m\u001b[0m\u001b[0m\n\u001b[0;32m---> 61\u001b[0;31m         \u001b[0;32mreturn\u001b[0m \u001b[0msession\u001b[0m\u001b[0;34m.\u001b[0m\u001b[0mrequest\u001b[0m\u001b[0;34m(\u001b[0m\u001b[0mmethod\u001b[0m\u001b[0;34m=\u001b[0m\u001b[0mmethod\u001b[0m\u001b[0;34m,\u001b[0m \u001b[0murl\u001b[0m\u001b[0;34m=\u001b[0m\u001b[0murl\u001b[0m\u001b[0;34m,\u001b[0m \u001b[0;34m**\u001b[0m\u001b[0mkwargs\u001b[0m\u001b[0;34m)\u001b[0m\u001b[0;34m\u001b[0m\u001b[0;34m\u001b[0m\u001b[0m\n\u001b[0m\u001b[1;32m     62\u001b[0m \u001b[0;34m\u001b[0m\u001b[0m\n\u001b[1;32m     63\u001b[0m \u001b[0;34m\u001b[0m\u001b[0m\n",
            "\u001b[0;32m/usr/local/lib/python3.7/dist-packages/requests/sessions.py\u001b[0m in \u001b[0;36mrequest\u001b[0;34m(self, method, url, params, data, headers, cookies, files, auth, timeout, allow_redirects, proxies, hooks, stream, verify, cert, json)\u001b[0m\n\u001b[1;32m    528\u001b[0m         }\n\u001b[1;32m    529\u001b[0m         \u001b[0msend_kwargs\u001b[0m\u001b[0;34m.\u001b[0m\u001b[0mupdate\u001b[0m\u001b[0;34m(\u001b[0m\u001b[0msettings\u001b[0m\u001b[0;34m)\u001b[0m\u001b[0;34m\u001b[0m\u001b[0;34m\u001b[0m\u001b[0m\n\u001b[0;32m--> 530\u001b[0;31m         \u001b[0mresp\u001b[0m \u001b[0;34m=\u001b[0m \u001b[0mself\u001b[0m\u001b[0;34m.\u001b[0m\u001b[0msend\u001b[0m\u001b[0;34m(\u001b[0m\u001b[0mprep\u001b[0m\u001b[0;34m,\u001b[0m \u001b[0;34m**\u001b[0m\u001b[0msend_kwargs\u001b[0m\u001b[0;34m)\u001b[0m\u001b[0;34m\u001b[0m\u001b[0;34m\u001b[0m\u001b[0m\n\u001b[0m\u001b[1;32m    531\u001b[0m \u001b[0;34m\u001b[0m\u001b[0m\n\u001b[1;32m    532\u001b[0m         \u001b[0;32mreturn\u001b[0m \u001b[0mresp\u001b[0m\u001b[0;34m\u001b[0m\u001b[0;34m\u001b[0m\u001b[0m\n",
            "\u001b[0;32m/usr/local/lib/python3.7/dist-packages/requests/sessions.py\u001b[0m in \u001b[0;36msend\u001b[0;34m(self, request, **kwargs)\u001b[0m\n\u001b[1;32m    641\u001b[0m \u001b[0;34m\u001b[0m\u001b[0m\n\u001b[1;32m    642\u001b[0m         \u001b[0;31m# Send the request\u001b[0m\u001b[0;34m\u001b[0m\u001b[0;34m\u001b[0m\u001b[0;34m\u001b[0m\u001b[0m\n\u001b[0;32m--> 643\u001b[0;31m         \u001b[0mr\u001b[0m \u001b[0;34m=\u001b[0m \u001b[0madapter\u001b[0m\u001b[0;34m.\u001b[0m\u001b[0msend\u001b[0m\u001b[0;34m(\u001b[0m\u001b[0mrequest\u001b[0m\u001b[0;34m,\u001b[0m \u001b[0;34m**\u001b[0m\u001b[0mkwargs\u001b[0m\u001b[0;34m)\u001b[0m\u001b[0;34m\u001b[0m\u001b[0;34m\u001b[0m\u001b[0m\n\u001b[0m\u001b[1;32m    644\u001b[0m \u001b[0;34m\u001b[0m\u001b[0m\n\u001b[1;32m    645\u001b[0m         \u001b[0;31m# Total elapsed time of the request (approximately)\u001b[0m\u001b[0;34m\u001b[0m\u001b[0;34m\u001b[0m\u001b[0;34m\u001b[0m\u001b[0m\n",
            "\u001b[0;32m/usr/local/lib/python3.7/dist-packages/requests/adapters.py\u001b[0m in \u001b[0;36msend\u001b[0;34m(self, request, stream, timeout, verify, cert, proxies)\u001b[0m\n\u001b[1;32m    465\u001b[0m                         \u001b[0mlow_conn\u001b[0m\u001b[0;34m.\u001b[0m\u001b[0mputheader\u001b[0m\u001b[0;34m(\u001b[0m\u001b[0mheader\u001b[0m\u001b[0;34m,\u001b[0m \u001b[0mvalue\u001b[0m\u001b[0;34m)\u001b[0m\u001b[0;34m\u001b[0m\u001b[0;34m\u001b[0m\u001b[0m\n\u001b[1;32m    466\u001b[0m \u001b[0;34m\u001b[0m\u001b[0m\n\u001b[0;32m--> 467\u001b[0;31m                     \u001b[0mlow_conn\u001b[0m\u001b[0;34m.\u001b[0m\u001b[0mendheaders\u001b[0m\u001b[0;34m(\u001b[0m\u001b[0;34m)\u001b[0m\u001b[0;34m\u001b[0m\u001b[0;34m\u001b[0m\u001b[0m\n\u001b[0m\u001b[1;32m    468\u001b[0m \u001b[0;34m\u001b[0m\u001b[0m\n\u001b[1;32m    469\u001b[0m                     \u001b[0;32mfor\u001b[0m \u001b[0mi\u001b[0m \u001b[0;32min\u001b[0m \u001b[0mrequest\u001b[0m\u001b[0;34m.\u001b[0m\u001b[0mbody\u001b[0m\u001b[0;34m:\u001b[0m\u001b[0;34m\u001b[0m\u001b[0;34m\u001b[0m\u001b[0m\n",
            "\u001b[0;32m/usr/lib/python3.7/http/client.py\u001b[0m in \u001b[0;36mendheaders\u001b[0;34m(self, message_body, encode_chunked)\u001b[0m\n\u001b[1;32m   1270\u001b[0m         \u001b[0;32melse\u001b[0m\u001b[0;34m:\u001b[0m\u001b[0;34m\u001b[0m\u001b[0;34m\u001b[0m\u001b[0m\n\u001b[1;32m   1271\u001b[0m             \u001b[0;32mraise\u001b[0m \u001b[0mCannotSendHeader\u001b[0m\u001b[0;34m(\u001b[0m\u001b[0;34m)\u001b[0m\u001b[0;34m\u001b[0m\u001b[0;34m\u001b[0m\u001b[0m\n\u001b[0;32m-> 1272\u001b[0;31m         \u001b[0mself\u001b[0m\u001b[0;34m.\u001b[0m\u001b[0m_send_output\u001b[0m\u001b[0;34m(\u001b[0m\u001b[0mmessage_body\u001b[0m\u001b[0;34m,\u001b[0m \u001b[0mencode_chunked\u001b[0m\u001b[0;34m=\u001b[0m\u001b[0mencode_chunked\u001b[0m\u001b[0;34m)\u001b[0m\u001b[0;34m\u001b[0m\u001b[0;34m\u001b[0m\u001b[0m\n\u001b[0m\u001b[1;32m   1273\u001b[0m \u001b[0;34m\u001b[0m\u001b[0m\n\u001b[1;32m   1274\u001b[0m     def request(self, method, url, body=None, headers={}, *,\n",
            "\u001b[0;32m/usr/lib/python3.7/http/client.py\u001b[0m in \u001b[0;36m_send_output\u001b[0;34m(self, message_body, encode_chunked)\u001b[0m\n\u001b[1;32m   1030\u001b[0m         \u001b[0mmsg\u001b[0m \u001b[0;34m=\u001b[0m \u001b[0;34mb\"\\r\\n\"\u001b[0m\u001b[0;34m.\u001b[0m\u001b[0mjoin\u001b[0m\u001b[0;34m(\u001b[0m\u001b[0mself\u001b[0m\u001b[0;34m.\u001b[0m\u001b[0m_buffer\u001b[0m\u001b[0;34m)\u001b[0m\u001b[0;34m\u001b[0m\u001b[0;34m\u001b[0m\u001b[0m\n\u001b[1;32m   1031\u001b[0m         \u001b[0;32mdel\u001b[0m \u001b[0mself\u001b[0m\u001b[0;34m.\u001b[0m\u001b[0m_buffer\u001b[0m\u001b[0;34m[\u001b[0m\u001b[0;34m:\u001b[0m\u001b[0;34m]\u001b[0m\u001b[0;34m\u001b[0m\u001b[0;34m\u001b[0m\u001b[0m\n\u001b[0;32m-> 1032\u001b[0;31m         \u001b[0mself\u001b[0m\u001b[0;34m.\u001b[0m\u001b[0msend\u001b[0m\u001b[0;34m(\u001b[0m\u001b[0mmsg\u001b[0m\u001b[0;34m)\u001b[0m\u001b[0;34m\u001b[0m\u001b[0;34m\u001b[0m\u001b[0m\n\u001b[0m\u001b[1;32m   1033\u001b[0m \u001b[0;34m\u001b[0m\u001b[0m\n\u001b[1;32m   1034\u001b[0m         \u001b[0;32mif\u001b[0m \u001b[0mmessage_body\u001b[0m \u001b[0;32mis\u001b[0m \u001b[0;32mnot\u001b[0m \u001b[0;32mNone\u001b[0m\u001b[0;34m:\u001b[0m\u001b[0;34m\u001b[0m\u001b[0;34m\u001b[0m\u001b[0m\n",
            "\u001b[0;32m/usr/lib/python3.7/http/client.py\u001b[0m in \u001b[0;36msend\u001b[0;34m(self, data)\u001b[0m\n\u001b[1;32m    970\u001b[0m         \u001b[0;32mif\u001b[0m \u001b[0mself\u001b[0m\u001b[0;34m.\u001b[0m\u001b[0msock\u001b[0m \u001b[0;32mis\u001b[0m \u001b[0;32mNone\u001b[0m\u001b[0;34m:\u001b[0m\u001b[0;34m\u001b[0m\u001b[0;34m\u001b[0m\u001b[0m\n\u001b[1;32m    971\u001b[0m             \u001b[0;32mif\u001b[0m \u001b[0mself\u001b[0m\u001b[0;34m.\u001b[0m\u001b[0mauto_open\u001b[0m\u001b[0;34m:\u001b[0m\u001b[0;34m\u001b[0m\u001b[0;34m\u001b[0m\u001b[0m\n\u001b[0;32m--> 972\u001b[0;31m                 \u001b[0mself\u001b[0m\u001b[0;34m.\u001b[0m\u001b[0mconnect\u001b[0m\u001b[0;34m(\u001b[0m\u001b[0;34m)\u001b[0m\u001b[0;34m\u001b[0m\u001b[0;34m\u001b[0m\u001b[0m\n\u001b[0m\u001b[1;32m    973\u001b[0m             \u001b[0;32melse\u001b[0m\u001b[0;34m:\u001b[0m\u001b[0;34m\u001b[0m\u001b[0;34m\u001b[0m\u001b[0m\n\u001b[1;32m    974\u001b[0m                 \u001b[0;32mraise\u001b[0m \u001b[0mNotConnected\u001b[0m\u001b[0;34m(\u001b[0m\u001b[0;34m)\u001b[0m\u001b[0;34m\u001b[0m\u001b[0;34m\u001b[0m\u001b[0m\n",
            "\u001b[0;32m/usr/local/lib/python3.7/dist-packages/urllib3/connection.py\u001b[0m in \u001b[0;36mconnect\u001b[0;34m(self)\u001b[0m\n\u001b[1;32m    299\u001b[0m     \u001b[0;32mdef\u001b[0m \u001b[0mconnect\u001b[0m\u001b[0;34m(\u001b[0m\u001b[0mself\u001b[0m\u001b[0;34m)\u001b[0m\u001b[0;34m:\u001b[0m\u001b[0;34m\u001b[0m\u001b[0;34m\u001b[0m\u001b[0m\n\u001b[1;32m    300\u001b[0m         \u001b[0;31m# Add certificate verification\u001b[0m\u001b[0;34m\u001b[0m\u001b[0;34m\u001b[0m\u001b[0;34m\u001b[0m\u001b[0m\n\u001b[0;32m--> 301\u001b[0;31m         \u001b[0mconn\u001b[0m \u001b[0;34m=\u001b[0m \u001b[0mself\u001b[0m\u001b[0;34m.\u001b[0m\u001b[0m_new_conn\u001b[0m\u001b[0;34m(\u001b[0m\u001b[0;34m)\u001b[0m\u001b[0;34m\u001b[0m\u001b[0;34m\u001b[0m\u001b[0m\n\u001b[0m\u001b[1;32m    302\u001b[0m         \u001b[0mhostname\u001b[0m \u001b[0;34m=\u001b[0m \u001b[0mself\u001b[0m\u001b[0;34m.\u001b[0m\u001b[0mhost\u001b[0m\u001b[0;34m\u001b[0m\u001b[0;34m\u001b[0m\u001b[0m\n\u001b[1;32m    303\u001b[0m \u001b[0;34m\u001b[0m\u001b[0m\n",
            "\u001b[0;32m/usr/local/lib/python3.7/dist-packages/urllib3/connection.py\u001b[0m in \u001b[0;36m_new_conn\u001b[0;34m(self)\u001b[0m\n\u001b[1;32m    157\u001b[0m         \u001b[0;32mtry\u001b[0m\u001b[0;34m:\u001b[0m\u001b[0;34m\u001b[0m\u001b[0;34m\u001b[0m\u001b[0m\n\u001b[1;32m    158\u001b[0m             conn = connection.create_connection(\n\u001b[0;32m--> 159\u001b[0;31m                 (self._dns_host, self.port), self.timeout, **extra_kw)\n\u001b[0m\u001b[1;32m    160\u001b[0m \u001b[0;34m\u001b[0m\u001b[0m\n\u001b[1;32m    161\u001b[0m         \u001b[0;32mexcept\u001b[0m \u001b[0mSocketTimeout\u001b[0m\u001b[0;34m:\u001b[0m\u001b[0;34m\u001b[0m\u001b[0;34m\u001b[0m\u001b[0m\n",
            "\u001b[0;32m/usr/local/lib/python3.7/dist-packages/urllib3/util/connection.py\u001b[0m in \u001b[0;36mcreate_connection\u001b[0;34m(address, timeout, source_address, socket_options)\u001b[0m\n\u001b[1;32m     68\u001b[0m             \u001b[0;32mif\u001b[0m \u001b[0msource_address\u001b[0m\u001b[0;34m:\u001b[0m\u001b[0;34m\u001b[0m\u001b[0;34m\u001b[0m\u001b[0m\n\u001b[1;32m     69\u001b[0m                 \u001b[0msock\u001b[0m\u001b[0;34m.\u001b[0m\u001b[0mbind\u001b[0m\u001b[0;34m(\u001b[0m\u001b[0msource_address\u001b[0m\u001b[0;34m)\u001b[0m\u001b[0;34m\u001b[0m\u001b[0;34m\u001b[0m\u001b[0m\n\u001b[0;32m---> 70\u001b[0;31m             \u001b[0msock\u001b[0m\u001b[0;34m.\u001b[0m\u001b[0mconnect\u001b[0m\u001b[0;34m(\u001b[0m\u001b[0msa\u001b[0m\u001b[0;34m)\u001b[0m\u001b[0;34m\u001b[0m\u001b[0;34m\u001b[0m\u001b[0m\n\u001b[0m\u001b[1;32m     71\u001b[0m             \u001b[0;32mreturn\u001b[0m \u001b[0msock\u001b[0m\u001b[0;34m\u001b[0m\u001b[0;34m\u001b[0m\u001b[0m\n\u001b[1;32m     72\u001b[0m \u001b[0;34m\u001b[0m\u001b[0m\n",
            "\u001b[0;31mKeyboardInterrupt\u001b[0m: "
          ]
        }
      ]
    },
    {
      "cell_type": "code",
      "metadata": {
        "colab": {
          "base_uri": "https://localhost:8080/",
          "height": 1000
        },
        "id": "a8e55b63_-8O",
        "outputId": "af8d4690-129a-4727-b53e-d3ff5a0a2151"
      },
      "source": [
        "\n"
      ],
      "execution_count": null,
      "outputs": [
        {
          "output_type": "execute_result",
          "data": {
            "text/html": [
              "<div>\n",
              "<style scoped>\n",
              "    .dataframe tbody tr th:only-of-type {\n",
              "        vertical-align: middle;\n",
              "    }\n",
              "\n",
              "    .dataframe tbody tr th {\n",
              "        vertical-align: top;\n",
              "    }\n",
              "\n",
              "    .dataframe thead th {\n",
              "        text-align: right;\n",
              "    }\n",
              "</style>\n",
              "<table border=\"1\" class=\"dataframe\">\n",
              "  <thead>\n",
              "    <tr style=\"text-align: right;\">\n",
              "      <th></th>\n",
              "      <th>Question</th>\n",
              "      <th>Answer</th>\n",
              "      <th>Source</th>\n",
              "      <th>Metadata</th>\n",
              "    </tr>\n",
              "  </thead>\n",
              "  <tbody>\n",
              "    <tr>\n",
              "      <th>0</th>\n",
              "      <td>Do you ever get hurt?</td>\n",
              "      <td>I don't have a body.</td>\n",
              "      <td>qna_chitchat_Professional</td>\n",
              "      <td>editorial:chitchat</td>\n",
              "    </tr>\n",
              "    <tr>\n",
              "      <th>1</th>\n",
              "      <td>Can you breathe</td>\n",
              "      <td>I don't have a body.</td>\n",
              "      <td>qna_chitchat_Professional</td>\n",
              "      <td>editorial:chitchat</td>\n",
              "    </tr>\n",
              "    <tr>\n",
              "      <th>2</th>\n",
              "      <td>Do you ever breathe</td>\n",
              "      <td>I don't have a body.</td>\n",
              "      <td>qna_chitchat_Professional</td>\n",
              "      <td>editorial:chitchat</td>\n",
              "    </tr>\n",
              "    <tr>\n",
              "      <th>3</th>\n",
              "      <td>can you masticate?</td>\n",
              "      <td>I don't have a body.</td>\n",
              "      <td>qna_chitchat_Professional</td>\n",
              "      <td>editorial:chitchat</td>\n",
              "    </tr>\n",
              "    <tr>\n",
              "      <th>4</th>\n",
              "      <td>Can you burp?</td>\n",
              "      <td>I don't have a body.</td>\n",
              "      <td>qna_chitchat_Professional</td>\n",
              "      <td>editorial:chitchat</td>\n",
              "    </tr>\n",
              "    <tr>\n",
              "      <th>5</th>\n",
              "      <td>Can you chew?</td>\n",
              "      <td>I don't have a body.</td>\n",
              "      <td>qna_chitchat_Professional</td>\n",
              "      <td>editorial:chitchat</td>\n",
              "    </tr>\n",
              "    <tr>\n",
              "      <th>6</th>\n",
              "      <td>Can you crawl?</td>\n",
              "      <td>I don't have a body.</td>\n",
              "      <td>qna_chitchat_Professional</td>\n",
              "      <td>editorial:chitchat</td>\n",
              "    </tr>\n",
              "    <tr>\n",
              "      <th>7</th>\n",
              "      <td>Can you cry?</td>\n",
              "      <td>I don't have a body.</td>\n",
              "      <td>qna_chitchat_Professional</td>\n",
              "      <td>editorial:chitchat</td>\n",
              "    </tr>\n",
              "    <tr>\n",
              "      <th>8</th>\n",
              "      <td>Can you dream</td>\n",
              "      <td>I don't have a body.</td>\n",
              "      <td>qna_chitchat_Professional</td>\n",
              "      <td>editorial:chitchat</td>\n",
              "    </tr>\n",
              "    <tr>\n",
              "      <th>9</th>\n",
              "      <td>Can you eat?</td>\n",
              "      <td>I don't have a body.</td>\n",
              "      <td>qna_chitchat_Professional</td>\n",
              "      <td>editorial:chitchat</td>\n",
              "    </tr>\n",
              "    <tr>\n",
              "      <th>10</th>\n",
              "      <td>Can you fart?</td>\n",
              "      <td>I don't have a body.</td>\n",
              "      <td>qna_chitchat_Professional</td>\n",
              "      <td>editorial:chitchat</td>\n",
              "    </tr>\n",
              "    <tr>\n",
              "      <th>11</th>\n",
              "      <td>Do you breathe</td>\n",
              "      <td>I don't have a body.</td>\n",
              "      <td>qna_chitchat_Professional</td>\n",
              "      <td>editorial:chitchat</td>\n",
              "    </tr>\n",
              "    <tr>\n",
              "      <th>12</th>\n",
              "      <td>Can you get tired?</td>\n",
              "      <td>I don't have a body.</td>\n",
              "      <td>qna_chitchat_Professional</td>\n",
              "      <td>editorial:chitchat</td>\n",
              "    </tr>\n",
              "    <tr>\n",
              "      <th>13</th>\n",
              "      <td>Can you yawn?</td>\n",
              "      <td>I don't have a body.</td>\n",
              "      <td>qna_chitchat_Professional</td>\n",
              "      <td>editorial:chitchat</td>\n",
              "    </tr>\n",
              "    <tr>\n",
              "      <th>14</th>\n",
              "      <td>Can you pee?</td>\n",
              "      <td>I don't have a body.</td>\n",
              "      <td>qna_chitchat_Professional</td>\n",
              "      <td>editorial:chitchat</td>\n",
              "    </tr>\n",
              "    <tr>\n",
              "      <th>15</th>\n",
              "      <td>Can you poop?</td>\n",
              "      <td>I don't have a body.</td>\n",
              "      <td>qna_chitchat_Professional</td>\n",
              "      <td>editorial:chitchat</td>\n",
              "    </tr>\n",
              "    <tr>\n",
              "      <th>16</th>\n",
              "      <td>Can you sneeze?</td>\n",
              "      <td>I don't have a body.</td>\n",
              "      <td>qna_chitchat_Professional</td>\n",
              "      <td>editorial:chitchat</td>\n",
              "    </tr>\n",
              "    <tr>\n",
              "      <th>17</th>\n",
              "      <td>Can you sweat?</td>\n",
              "      <td>I don't have a body.</td>\n",
              "      <td>qna_chitchat_Professional</td>\n",
              "      <td>editorial:chitchat</td>\n",
              "    </tr>\n",
              "    <tr>\n",
              "      <th>18</th>\n",
              "      <td>Can you throw up?</td>\n",
              "      <td>I don't have a body.</td>\n",
              "      <td>qna_chitchat_Professional</td>\n",
              "      <td>editorial:chitchat</td>\n",
              "    </tr>\n",
              "    <tr>\n",
              "      <th>19</th>\n",
              "      <td>Can you vomit?</td>\n",
              "      <td>I don't have a body.</td>\n",
              "      <td>qna_chitchat_Professional</td>\n",
              "      <td>editorial:chitchat</td>\n",
              "    </tr>\n",
              "    <tr>\n",
              "      <th>20</th>\n",
              "      <td>Do you ever pee?</td>\n",
              "      <td>I don't have a body.</td>\n",
              "      <td>qna_chitchat_Professional</td>\n",
              "      <td>editorial:chitchat</td>\n",
              "    </tr>\n",
              "    <tr>\n",
              "      <th>21</th>\n",
              "      <td>Can you get hurt?</td>\n",
              "      <td>I don't have a body.</td>\n",
              "      <td>qna_chitchat_Professional</td>\n",
              "      <td>editorial:chitchat</td>\n",
              "    </tr>\n",
              "    <tr>\n",
              "      <th>22</th>\n",
              "      <td>Do you sweat?</td>\n",
              "      <td>I don't have a body.</td>\n",
              "      <td>qna_chitchat_Professional</td>\n",
              "      <td>editorial:chitchat</td>\n",
              "    </tr>\n",
              "    <tr>\n",
              "      <th>23</th>\n",
              "      <td>Do you have skin?</td>\n",
              "      <td>I don't have a body.</td>\n",
              "      <td>qna_chitchat_Professional</td>\n",
              "      <td>editorial:chitchat</td>\n",
              "    </tr>\n",
              "    <tr>\n",
              "      <th>24</th>\n",
              "      <td>Do you have teeth?</td>\n",
              "      <td>I don't have a body.</td>\n",
              "      <td>qna_chitchat_Professional</td>\n",
              "      <td>editorial:chitchat</td>\n",
              "    </tr>\n",
              "    <tr>\n",
              "      <th>25</th>\n",
              "      <td>Do you have toes?</td>\n",
              "      <td>I don't have a body.</td>\n",
              "      <td>qna_chitchat_Professional</td>\n",
              "      <td>editorial:chitchat</td>\n",
              "    </tr>\n",
              "    <tr>\n",
              "      <th>26</th>\n",
              "      <td>Do you masticate?</td>\n",
              "      <td>I don't have a body.</td>\n",
              "      <td>qna_chitchat_Professional</td>\n",
              "      <td>editorial:chitchat</td>\n",
              "    </tr>\n",
              "    <tr>\n",
              "      <th>27</th>\n",
              "      <td>Do you pee?</td>\n",
              "      <td>I don't have a body.</td>\n",
              "      <td>qna_chitchat_Professional</td>\n",
              "      <td>editorial:chitchat</td>\n",
              "    </tr>\n",
              "    <tr>\n",
              "      <th>28</th>\n",
              "      <td>Do you poop?</td>\n",
              "      <td>I don't have a body.</td>\n",
              "      <td>qna_chitchat_Professional</td>\n",
              "      <td>editorial:chitchat</td>\n",
              "    </tr>\n",
              "    <tr>\n",
              "      <th>29</th>\n",
              "      <td>Do you ever get tired?</td>\n",
              "      <td>I don't have a body.</td>\n",
              "      <td>qna_chitchat_Professional</td>\n",
              "      <td>editorial:chitchat</td>\n",
              "    </tr>\n",
              "    <tr>\n",
              "      <th>30</th>\n",
              "      <td>Do you sneeze?</td>\n",
              "      <td>I don't have a body.</td>\n",
              "      <td>qna_chitchat_Professional</td>\n",
              "      <td>editorial:chitchat</td>\n",
              "    </tr>\n",
              "    <tr>\n",
              "      <th>31</th>\n",
              "      <td>Do you have hair?</td>\n",
              "      <td>I don't have a body.</td>\n",
              "      <td>qna_chitchat_Professional</td>\n",
              "      <td>editorial:chitchat</td>\n",
              "    </tr>\n",
              "    <tr>\n",
              "      <th>32</th>\n",
              "      <td>Do you throw up?</td>\n",
              "      <td>I don't have a body.</td>\n",
              "      <td>qna_chitchat_Professional</td>\n",
              "      <td>editorial:chitchat</td>\n",
              "    </tr>\n",
              "    <tr>\n",
              "      <th>33</th>\n",
              "      <td>Do you vomit?</td>\n",
              "      <td>I don't have a body.</td>\n",
              "      <td>qna_chitchat_Professional</td>\n",
              "      <td>editorial:chitchat</td>\n",
              "    </tr>\n",
              "    <tr>\n",
              "      <th>34</th>\n",
              "      <td>Do you yawn?</td>\n",
              "      <td>I don't have a body.</td>\n",
              "      <td>qna_chitchat_Professional</td>\n",
              "      <td>editorial:chitchat</td>\n",
              "    </tr>\n",
              "    <tr>\n",
              "      <th>35</th>\n",
              "      <td>Don't you ever masticate?</td>\n",
              "      <td>I don't have a body.</td>\n",
              "      <td>qna_chitchat_Professional</td>\n",
              "      <td>editorial:chitchat</td>\n",
              "    </tr>\n",
              "    <tr>\n",
              "      <th>36</th>\n",
              "      <td>Don't you ever sleep?</td>\n",
              "      <td>I don't have a body.</td>\n",
              "      <td>qna_chitchat_Professional</td>\n",
              "      <td>editorial:chitchat</td>\n",
              "    </tr>\n",
              "    <tr>\n",
              "      <th>37</th>\n",
              "      <td>Do you have a stomach?</td>\n",
              "      <td>I don't have a body.</td>\n",
              "      <td>qna_chitchat_Professional</td>\n",
              "      <td>editorial:chitchat</td>\n",
              "    </tr>\n",
              "    <tr>\n",
              "      <th>38</th>\n",
              "      <td>Do you have intestines?</td>\n",
              "      <td>I don't have a body.</td>\n",
              "      <td>qna_chitchat_Professional</td>\n",
              "      <td>editorial:chitchat</td>\n",
              "    </tr>\n",
              "    <tr>\n",
              "      <th>39</th>\n",
              "      <td>Do you sleep?</td>\n",
              "      <td>I don't have a body.</td>\n",
              "      <td>qna_chitchat_Professional</td>\n",
              "      <td>editorial:chitchat</td>\n",
              "    </tr>\n",
              "    <tr>\n",
              "      <th>40</th>\n",
              "      <td>Do you get tired?</td>\n",
              "      <td>I don't have a body.</td>\n",
              "      <td>qna_chitchat_Professional</td>\n",
              "      <td>editorial:chitchat</td>\n",
              "    </tr>\n",
              "    <tr>\n",
              "      <th>41</th>\n",
              "      <td>Do you ever poop?</td>\n",
              "      <td>I don't have a body.</td>\n",
              "      <td>qna_chitchat_Professional</td>\n",
              "      <td>editorial:chitchat</td>\n",
              "    </tr>\n",
              "    <tr>\n",
              "      <th>42</th>\n",
              "      <td>Do you ever sneeze?</td>\n",
              "      <td>I don't have a body.</td>\n",
              "      <td>qna_chitchat_Professional</td>\n",
              "      <td>editorial:chitchat</td>\n",
              "    </tr>\n",
              "    <tr>\n",
              "      <th>43</th>\n",
              "      <td>Do you ever sweat?</td>\n",
              "      <td>I don't have a body.</td>\n",
              "      <td>qna_chitchat_Professional</td>\n",
              "      <td>editorial:chitchat</td>\n",
              "    </tr>\n",
              "    <tr>\n",
              "      <th>44</th>\n",
              "      <td>Do you ever throw up?</td>\n",
              "      <td>I don't have a body.</td>\n",
              "      <td>qna_chitchat_Professional</td>\n",
              "      <td>editorial:chitchat</td>\n",
              "    </tr>\n",
              "    <tr>\n",
              "      <th>45</th>\n",
              "      <td>Do you ever vomit?</td>\n",
              "      <td>I don't have a body.</td>\n",
              "      <td>qna_chitchat_Professional</td>\n",
              "      <td>editorial:chitchat</td>\n",
              "    </tr>\n",
              "    <tr>\n",
              "      <th>46</th>\n",
              "      <td>Do you ever walk</td>\n",
              "      <td>I don't have a body.</td>\n",
              "      <td>qna_chitchat_Professional</td>\n",
              "      <td>editorial:chitchat</td>\n",
              "    </tr>\n",
              "    <tr>\n",
              "      <th>47</th>\n",
              "      <td>Do you ever yawn?</td>\n",
              "      <td>I don't have a body.</td>\n",
              "      <td>qna_chitchat_Professional</td>\n",
              "      <td>editorial:chitchat</td>\n",
              "    </tr>\n",
              "    <tr>\n",
              "      <th>48</th>\n",
              "      <td>Do you have lungs?</td>\n",
              "      <td>I don't have a body.</td>\n",
              "      <td>qna_chitchat_Professional</td>\n",
              "      <td>editorial:chitchat</td>\n",
              "    </tr>\n",
              "    <tr>\n",
              "      <th>49</th>\n",
              "      <td>Do you get hurt?</td>\n",
              "      <td>I don't have a body.</td>\n",
              "      <td>qna_chitchat_Professional</td>\n",
              "      <td>editorial:chitchat</td>\n",
              "    </tr>\n",
              "  </tbody>\n",
              "</table>\n",
              "</div>"
            ],
            "text/plain": [
              "                     Question  ...            Metadata\n",
              "0       Do you ever get hurt?  ...  editorial:chitchat\n",
              "1             Can you breathe  ...  editorial:chitchat\n",
              "2         Do you ever breathe  ...  editorial:chitchat\n",
              "3          can you masticate?  ...  editorial:chitchat\n",
              "4               Can you burp?  ...  editorial:chitchat\n",
              "5               Can you chew?  ...  editorial:chitchat\n",
              "6              Can you crawl?  ...  editorial:chitchat\n",
              "7                Can you cry?  ...  editorial:chitchat\n",
              "8               Can you dream  ...  editorial:chitchat\n",
              "9                Can you eat?  ...  editorial:chitchat\n",
              "10              Can you fart?  ...  editorial:chitchat\n",
              "11             Do you breathe  ...  editorial:chitchat\n",
              "12         Can you get tired?  ...  editorial:chitchat\n",
              "13              Can you yawn?  ...  editorial:chitchat\n",
              "14               Can you pee?  ...  editorial:chitchat\n",
              "15              Can you poop?  ...  editorial:chitchat\n",
              "16            Can you sneeze?  ...  editorial:chitchat\n",
              "17             Can you sweat?  ...  editorial:chitchat\n",
              "18          Can you throw up?  ...  editorial:chitchat\n",
              "19             Can you vomit?  ...  editorial:chitchat\n",
              "20           Do you ever pee?  ...  editorial:chitchat\n",
              "21          Can you get hurt?  ...  editorial:chitchat\n",
              "22              Do you sweat?  ...  editorial:chitchat\n",
              "23          Do you have skin?  ...  editorial:chitchat\n",
              "24         Do you have teeth?  ...  editorial:chitchat\n",
              "25          Do you have toes?  ...  editorial:chitchat\n",
              "26          Do you masticate?  ...  editorial:chitchat\n",
              "27                Do you pee?  ...  editorial:chitchat\n",
              "28               Do you poop?  ...  editorial:chitchat\n",
              "29     Do you ever get tired?  ...  editorial:chitchat\n",
              "30             Do you sneeze?  ...  editorial:chitchat\n",
              "31          Do you have hair?  ...  editorial:chitchat\n",
              "32           Do you throw up?  ...  editorial:chitchat\n",
              "33              Do you vomit?  ...  editorial:chitchat\n",
              "34               Do you yawn?  ...  editorial:chitchat\n",
              "35  Don't you ever masticate?  ...  editorial:chitchat\n",
              "36     Don't you ever sleep?   ...  editorial:chitchat\n",
              "37     Do you have a stomach?  ...  editorial:chitchat\n",
              "38    Do you have intestines?  ...  editorial:chitchat\n",
              "39              Do you sleep?  ...  editorial:chitchat\n",
              "40          Do you get tired?  ...  editorial:chitchat\n",
              "41          Do you ever poop?  ...  editorial:chitchat\n",
              "42        Do you ever sneeze?  ...  editorial:chitchat\n",
              "43         Do you ever sweat?  ...  editorial:chitchat\n",
              "44      Do you ever throw up?  ...  editorial:chitchat\n",
              "45         Do you ever vomit?  ...  editorial:chitchat\n",
              "46           Do you ever walk  ...  editorial:chitchat\n",
              "47          Do you ever yawn?  ...  editorial:chitchat\n",
              "48         Do you have lungs?  ...  editorial:chitchat\n",
              "49           Do you get hurt?  ...  editorial:chitchat\n",
              "\n",
              "[50 rows x 4 columns]"
            ]
          },
          "metadata": {
            "tags": []
          },
          "execution_count": 21
        }
      ]
    },
    {
      "cell_type": "code",
      "metadata": {
        "id": "sk8SICZ0_xSq",
        "colab": {
          "base_uri": "https://localhost:8080/"
        },
        "outputId": "125cba5f-fa86-4907-d11e-fad0adf4b1ac"
      },
      "source": [
        "cars = [\"Honda\", \"BMW\", \"Mercedez\"]\n",
        "cars.remove(cars[1])\n",
        "print(cars)"
      ],
      "execution_count": null,
      "outputs": [
        {
          "output_type": "stream",
          "name": "stdout",
          "text": [
            "['Honda', 'Mercedez']\n"
          ]
        }
      ]
    },
    {
      "cell_type": "code",
      "metadata": {
        "colab": {
          "base_uri": "https://localhost:8080/",
          "height": 189
        },
        "id": "CPYRX9JD9jFq",
        "outputId": "6b75a7d3-25e6-4702-a266-886e5e036d88"
      },
      "source": [],
      "execution_count": null,
      "outputs": [
        {
          "output_type": "execute_result",
          "data": {
            "text/html": [
              "<div>\n",
              "<style scoped>\n",
              "    .dataframe tbody tr th:only-of-type {\n",
              "        vertical-align: middle;\n",
              "    }\n",
              "\n",
              "    .dataframe tbody tr th {\n",
              "        vertical-align: top;\n",
              "    }\n",
              "\n",
              "    .dataframe thead th {\n",
              "        text-align: right;\n",
              "    }\n",
              "</style>\n",
              "<table border=\"1\" class=\"dataframe\">\n",
              "  <thead>\n",
              "    <tr style=\"text-align: right;\">\n",
              "      <th></th>\n",
              "      <th></th>\n",
              "      <th></th>\n",
              "      <th></th>\n",
              "    </tr>\n",
              "    <tr>\n",
              "      <th>Service Name</th>\n",
              "      <th>Service</th>\n",
              "      <th>instance</th>\n",
              "      <th>status</th>\n",
              "    </tr>\n",
              "  </thead>\n",
              "  <tbody>\n",
              "    <tr>\n",
              "      <th rowspan=\"2\" valign=\"top\">Service Name1</th>\n",
              "      <th rowspan=\"2\" valign=\"top\">Service1</th>\n",
              "      <th>instance1</th>\n",
              "      <th>status</th>\n",
              "    </tr>\n",
              "    <tr>\n",
              "      <th>instance2</th>\n",
              "      <th>status</th>\n",
              "    </tr>\n",
              "    <tr>\n",
              "      <th rowspan=\"2\" valign=\"top\">Service Name2</th>\n",
              "      <th rowspan=\"2\" valign=\"top\">Service1</th>\n",
              "      <th>instance1</th>\n",
              "      <th>status</th>\n",
              "    </tr>\n",
              "    <tr>\n",
              "      <th>instance2</th>\n",
              "      <th>status</th>\n",
              "    </tr>\n",
              "  </tbody>\n",
              "</table>\n",
              "</div>"
            ],
            "text/plain": [
              "Empty DataFrame\n",
              "Columns: []\n",
              "Index: [(Service Name1, Service1, instance1, status), (Service Name1, Service1, instance2, status), (Service Name2, Service1, instance1, status), (Service Name2, Service1, instance2, status)]"
            ]
          },
          "metadata": {},
          "execution_count": 34
        }
      ]
    },
    {
      "cell_type": "code",
      "metadata": {
        "colab": {
          "base_uri": "https://localhost:8080/",
          "height": 356
        },
        "id": "Ov9KSUQjdijV",
        "outputId": "31431935-f2a9-4969-8e61-943605f65722"
      },
      "source": [],
      "execution_count": null,
      "outputs": [
        {
          "output_type": "error",
          "ename": "RuntimeError",
          "evalue": "ignored",
          "traceback": [
            "\u001b[0;31m---------------------------------------------------------------------------\u001b[0m",
            "\u001b[0;31mRuntimeError\u001b[0m                              Traceback (most recent call last)",
            "\u001b[0;32m<ipython-input-13-5f5683434e83>\u001b[0m in \u001b[0;36m<module>\u001b[0;34m()\u001b[0m\n\u001b[1;32m     34\u001b[0m \u001b[0;34m\u001b[0m\u001b[0m\n\u001b[1;32m     35\u001b[0m \u001b[0;34m\u001b[0m\u001b[0m\n\u001b[0;32m---> 36\u001b[0;31m \u001b[0;32mwith\u001b[0m \u001b[0mTelegramClient\u001b[0m\u001b[0;34m(\u001b[0m\u001b[0;34m'anon'\u001b[0m\u001b[0;34m,\u001b[0m \u001b[0mapi_id\u001b[0m\u001b[0;34m,\u001b[0m \u001b[0mapi_hash\u001b[0m\u001b[0;34m)\u001b[0m \u001b[0;32mas\u001b[0m \u001b[0mclient\u001b[0m\u001b[0;34m:\u001b[0m\u001b[0;34m\u001b[0m\u001b[0;34m\u001b[0m\u001b[0m\n\u001b[0m\u001b[1;32m     37\u001b[0m     \u001b[0mclient\u001b[0m\u001b[0;34m.\u001b[0m\u001b[0mloop\u001b[0m\u001b[0;34m.\u001b[0m\u001b[0mrun_until_complete\u001b[0m\u001b[0;34m(\u001b[0m\u001b[0mclient\u001b[0m\u001b[0;34m.\u001b[0m\u001b[0msend_message\u001b[0m\u001b[0;34m(\u001b[0m\u001b[0;34m'me'\u001b[0m\u001b[0;34m,\u001b[0m \u001b[0;34m'Hello, myself!'\u001b[0m\u001b[0;34m)\u001b[0m\u001b[0;34m)\u001b[0m\u001b[0;34m\u001b[0m\u001b[0;34m\u001b[0m\u001b[0m\n\u001b[1;32m     38\u001b[0m \u001b[0;34m\u001b[0m\u001b[0m\n",
            "\u001b[0;32m/usr/local/lib/python3.7/dist-packages/telethon/helpers.py\u001b[0m in \u001b[0;36m_sync_enter\u001b[0;34m(self)\u001b[0m\n\u001b[1;32m    178\u001b[0m     \u001b[0;32mif\u001b[0m \u001b[0mloop\u001b[0m\u001b[0;34m.\u001b[0m\u001b[0mis_running\u001b[0m\u001b[0;34m(\u001b[0m\u001b[0;34m)\u001b[0m\u001b[0;34m:\u001b[0m\u001b[0;34m\u001b[0m\u001b[0;34m\u001b[0m\u001b[0m\n\u001b[1;32m    179\u001b[0m         raise RuntimeError(\n\u001b[0;32m--> 180\u001b[0;31m             \u001b[0;34m'You must use \"async with\" if the event loop '\u001b[0m\u001b[0;34m\u001b[0m\u001b[0;34m\u001b[0m\u001b[0m\n\u001b[0m\u001b[1;32m    181\u001b[0m             \u001b[0;34m'is running (i.e. you are inside an \"async def\")'\u001b[0m\u001b[0;34m\u001b[0m\u001b[0;34m\u001b[0m\u001b[0m\n\u001b[1;32m    182\u001b[0m         )\n",
            "\u001b[0;31mRuntimeError\u001b[0m: You must use \"async with\" if the event loop is running (i.e. you are inside an \"async def\")"
          ]
        }
      ]
    }
  ]
}